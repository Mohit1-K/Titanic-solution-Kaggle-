{
 "cells": [
  {
   "cell_type": "code",
   "execution_count": 1,
   "metadata": {
    "executionInfo": {
     "elapsed": 1689,
     "status": "ok",
     "timestamp": 1603337460020,
     "user": {
      "displayName": "Mohit Kumar",
      "photoUrl": "https://lh3.googleusercontent.com/a-/AOh14Gj8w3q63HFTUHmSvksuo2jqQuRy7MffzxIK9Ft9=s64",
      "userId": "10280412065584785973"
     },
     "user_tz": -330
    },
    "id": "rFe0Cefq4uZH"
   },
   "outputs": [],
   "source": [
    "import pandas as pd\n",
    "import numpy as np"
   ]
  },
  {
   "cell_type": "code",
   "execution_count": 2,
   "metadata": {
    "executionInfo": {
     "elapsed": 1883,
     "status": "ok",
     "timestamp": 1603337462984,
     "user": {
      "displayName": "Mohit Kumar",
      "photoUrl": "https://lh3.googleusercontent.com/a-/AOh14Gj8w3q63HFTUHmSvksuo2jqQuRy7MffzxIK9Ft9=s64",
      "userId": "10280412065584785973"
     },
     "user_tz": -330
    },
    "id": "gznikY9m7bbH"
   },
   "outputs": [
    {
     "ename": "FileNotFoundError",
     "evalue": "[Errno 2] File test.csv does not exist: 'test.csv'",
     "output_type": "error",
     "traceback": [
      "\u001b[0;31m-------------------------\u001b[0m",
      "\u001b[0;31mFileNotFoundError\u001b[0mTraceback (most recent call last)",
      "\u001b[0;32m<ipython-input-2-86979574ef63>\u001b[0m in \u001b[0;36m<module>\u001b[0;34m\u001b[0m\n\u001b[1;32m      1\u001b[0m \u001b[0mtrain\u001b[0m\u001b[0;34m=\u001b[0m\u001b[0mpd\u001b[0m\u001b[0;34m.\u001b[0m\u001b[0mread_csv\u001b[0m\u001b[0;34m(\u001b[0m\u001b[0;34m'train.csv'\u001b[0m\u001b[0;34m)\u001b[0m\u001b[0;34m\u001b[0m\u001b[0;34m\u001b[0m\u001b[0m\n\u001b[0;32m----> 2\u001b[0;31m \u001b[0mtest\u001b[0m\u001b[0;34m=\u001b[0m\u001b[0mpd\u001b[0m\u001b[0;34m.\u001b[0m\u001b[0mread_csv\u001b[0m\u001b[0;34m(\u001b[0m\u001b[0;34m'test.csv'\u001b[0m\u001b[0;34m)\u001b[0m\u001b[0;34m\u001b[0m\u001b[0;34m\u001b[0m\u001b[0m\n\u001b[0m",
      "\u001b[0;32m/data/user/0/ru.iiec.pydroid3/files/aarch64-linux-android/lib/python3.8/site-packages/pandas/io/parsers.py\u001b[0m in \u001b[0;36mparser_f\u001b[0;34m(filepath_or_buffer, sep, delimiter, header, names, index_col, usecols, squeeze, prefix, mangle_dupe_cols, dtype, engine, converters, true_values, false_values, skipinitialspace, skiprows, skipfooter, nrows, na_values, keep_default_na, na_filter, verbose, skip_blank_lines, parse_dates, infer_datetime_format, keep_date_col, date_parser, dayfirst, cache_dates, iterator, chunksize, compression, thousands, decimal, lineterminator, quotechar, quoting, doublequote, escapechar, comment, encoding, dialect, error_bad_lines, warn_bad_lines, delim_whitespace, low_memory, memory_map, float_precision)\u001b[0m\n\u001b[1;32m    674\u001b[0m         )\n\u001b[1;32m    675\u001b[0m \u001b[0;34m\u001b[0m\u001b[0m\n\u001b[0;32m--> 676\u001b[0;31m         \u001b[0;32mreturn\u001b[0m \u001b[0m_read\u001b[0m\u001b[0;34m(\u001b[0m\u001b[0mfilepath_or_buffer\u001b[0m\u001b[0;34m,\u001b[0m \u001b[0mkwds\u001b[0m\u001b[0;34m)\u001b[0m\u001b[0;34m\u001b[0m\u001b[0;34m\u001b[0m\u001b[0m\n\u001b[0m\u001b[1;32m    677\u001b[0m \u001b[0;34m\u001b[0m\u001b[0m\n\u001b[1;32m    678\u001b[0m     \u001b[0mparser_f\u001b[0m\u001b[0;34m.\u001b[0m\u001b[0m__name__\u001b[0m \u001b[0;34m=\u001b[0m \u001b[0mname\u001b[0m\u001b[0;34m\u001b[0m\u001b[0;34m\u001b[0m\u001b[0m\n",
      "\u001b[0;32m/data/user/0/ru.iiec.pydroid3/files/aarch64-linux-android/lib/python3.8/site-packages/pandas/io/parsers.py\u001b[0m in \u001b[0;36m_read\u001b[0;34m(filepath_or_buffer, kwds)\u001b[0m\n\u001b[1;32m    446\u001b[0m \u001b[0;34m\u001b[0m\u001b[0m\n\u001b[1;32m    447\u001b[0m     \u001b[0;31m# Create the parser.\u001b[0m\u001b[0;34m\u001b[0m\u001b[0;34m\u001b[0m\u001b[0;34m\u001b[0m\u001b[0m\n\u001b[0;32m--> 448\u001b[0;31m     \u001b[0mparser\u001b[0m \u001b[0;34m=\u001b[0m \u001b[0mTextFileReader\u001b[0m\u001b[0;34m(\u001b[0m\u001b[0mfp_or_buf\u001b[0m\u001b[0;34m,\u001b[0m \u001b[0;34m**\u001b[0m\u001b[0mkwds\u001b[0m\u001b[0;34m)\u001b[0m\u001b[0;34m\u001b[0m\u001b[0;34m\u001b[0m\u001b[0m\n\u001b[0m\u001b[1;32m    449\u001b[0m \u001b[0;34m\u001b[0m\u001b[0m\n\u001b[1;32m    450\u001b[0m     \u001b[0;32mif\u001b[0m \u001b[0mchunksize\u001b[0m \u001b[0;32mor\u001b[0m \u001b[0miterator\u001b[0m\u001b[0;34m:\u001b[0m\u001b[0;34m\u001b[0m\u001b[0;34m\u001b[0m\u001b[0m\n",
      "\u001b[0;32m/data/user/0/ru.iiec.pydroid3/files/aarch64-linux-android/lib/python3.8/site-packages/pandas/io/parsers.py\u001b[0m in \u001b[0;36m__init__\u001b[0;34m(self, f, engine, **kwds)\u001b[0m\n\u001b[1;32m    878\u001b[0m             \u001b[0mself\u001b[0m\u001b[0;34m.\u001b[0m\u001b[0moptions\u001b[0m\u001b[0;34m[\u001b[0m\u001b[0;34m\"has_index_names\"\u001b[0m\u001b[0;34m]\u001b[0m \u001b[0;34m=\u001b[0m \u001b[0mkwds\u001b[0m\u001b[0;34m[\u001b[0m\u001b[0;34m\"has_index_names\"\u001b[0m\u001b[0;34m]\u001b[0m\u001b[0;34m\u001b[0m\u001b[0;34m\u001b[0m\u001b[0m\n\u001b[1;32m    879\u001b[0m \u001b[0;34m\u001b[0m\u001b[0m\n\u001b[0;32m--> 880\u001b[0;31m         \u001b[0mself\u001b[0m\u001b[0;34m.\u001b[0m\u001b[0m_make_engine\u001b[0m\u001b[0;34m(\u001b[0m\u001b[0mself\u001b[0m\u001b[0;34m.\u001b[0m\u001b[0mengine\u001b[0m\u001b[0;34m)\u001b[0m\u001b[0;34m\u001b[0m\u001b[0;34m\u001b[0m\u001b[0m\n\u001b[0m\u001b[1;32m    881\u001b[0m \u001b[0;34m\u001b[0m\u001b[0m\n\u001b[1;32m    882\u001b[0m     \u001b[0;32mdef\u001b[0m \u001b[0mclose\u001b[0m\u001b[0;34m(\u001b[0m\u001b[0mself\u001b[0m\u001b[0;34m)\u001b[0m\u001b[0;34m:\u001b[0m\u001b[0;34m\u001b[0m\u001b[0;34m\u001b[0m\u001b[0m\n",
      "\u001b[0;32m/data/user/0/ru.iiec.pydroid3/files/aarch64-linux-android/lib/python3.8/site-packages/pandas/io/parsers.py\u001b[0m in \u001b[0;36m_make_engine\u001b[0;34m(self, engine)\u001b[0m\n\u001b[1;32m   1112\u001b[0m     \u001b[0;32mdef\u001b[0m \u001b[0m_make_engine\u001b[0m\u001b[0;34m(\u001b[0m\u001b[0mself\u001b[0m\u001b[0;34m,\u001b[0m \u001b[0mengine\u001b[0m\u001b[0;34m=\u001b[0m\u001b[0;34m\"c\"\u001b[0m\u001b[0;34m)\u001b[0m\u001b[0;34m:\u001b[0m\u001b[0;34m\u001b[0m\u001b[0;34m\u001b[0m\u001b[0m\n\u001b[1;32m   1113\u001b[0m         \u001b[0;32mif\u001b[0m \u001b[0mengine\u001b[0m \u001b[0;34m==\u001b[0m \u001b[0;34m\"c\"\u001b[0m\u001b[0;34m:\u001b[0m\u001b[0;34m\u001b[0m\u001b[0;34m\u001b[0m\u001b[0m\n\u001b[0;32m-> 1114\u001b[0;31m             \u001b[0mself\u001b[0m\u001b[0;34m.\u001b[0m\u001b[0m_engine\u001b[0m \u001b[0;34m=\u001b[0m \u001b[0mCParserWrapper\u001b[0m\u001b[0;34m(\u001b[0m\u001b[0mself\u001b[0m\u001b[0;34m.\u001b[0m\u001b[0mf\u001b[0m\u001b[0;34m,\u001b[0m \u001b[0;34m**\u001b[0m\u001b[0mself\u001b[0m\u001b[0;34m.\u001b[0m\u001b[0moptions\u001b[0m\u001b[0;34m)\u001b[0m\u001b[0;34m\u001b[0m\u001b[0;34m\u001b[0m\u001b[0m\n\u001b[0m\u001b[1;32m   1115\u001b[0m         \u001b[0;32melse\u001b[0m\u001b[0;34m:\u001b[0m\u001b[0;34m\u001b[0m\u001b[0;34m\u001b[0m\u001b[0m\n\u001b[1;32m   1116\u001b[0m             \u001b[0;32mif\u001b[0m \u001b[0mengine\u001b[0m \u001b[0;34m==\u001b[0m \u001b[0;34m\"python\"\u001b[0m\u001b[0;34m:\u001b[0m\u001b[0;34m\u001b[0m\u001b[0;34m\u001b[0m\u001b[0m\n",
      "\u001b[0;32m/data/user/0/ru.iiec.pydroid3/files/aarch64-linux-android/lib/python3.8/site-packages/pandas/io/parsers.py\u001b[0m in \u001b[0;36m__init__\u001b[0;34m(self, src, **kwds)\u001b[0m\n\u001b[1;32m   1889\u001b[0m         \u001b[0mkwds\u001b[0m\u001b[0;34m[\u001b[0m\u001b[0;34m\"usecols\"\u001b[0m\u001b[0;34m]\u001b[0m \u001b[0;34m=\u001b[0m \u001b[0mself\u001b[0m\u001b[0;34m.\u001b[0m\u001b[0musecols\u001b[0m\u001b[0;34m\u001b[0m\u001b[0;34m\u001b[0m\u001b[0m\n\u001b[1;32m   1890\u001b[0m \u001b[0;34m\u001b[0m\u001b[0m\n\u001b[0;32m-> 1891\u001b[0;31m         \u001b[0mself\u001b[0m\u001b[0;34m.\u001b[0m\u001b[0m_reader\u001b[0m \u001b[0;34m=\u001b[0m \u001b[0mparsers\u001b[0m\u001b[0;34m.\u001b[0m\u001b[0mTextReader\u001b[0m\u001b[0;34m(\u001b[0m\u001b[0msrc\u001b[0m\u001b[0;34m,\u001b[0m \u001b[0;34m**\u001b[0m\u001b[0mkwds\u001b[0m\u001b[0;34m)\u001b[0m\u001b[0;34m\u001b[0m\u001b[0;34m\u001b[0m\u001b[0m\n\u001b[0m\u001b[1;32m   1892\u001b[0m         \u001b[0mself\u001b[0m\u001b[0;34m.\u001b[0m\u001b[0munnamed_cols\u001b[0m \u001b[0;34m=\u001b[0m \u001b[0mself\u001b[0m\u001b[0;34m.\u001b[0m\u001b[0m_reader\u001b[0m\u001b[0;34m.\u001b[0m\u001b[0munnamed_cols\u001b[0m\u001b[0;34m\u001b[0m\u001b[0;34m\u001b[0m\u001b[0m\n\u001b[1;32m   1893\u001b[0m \u001b[0;34m\u001b[0m\u001b[0m\n",
      "\u001b[0;32mpandas/_libs/parsers.pyx\u001b[0m in \u001b[0;36mpandas._libs.parsers.TextReader.__cinit__\u001b[0;34m()\u001b[0m\n",
      "\u001b[0;32mpandas/_libs/parsers.pyx\u001b[0m in \u001b[0;36mpandas._libs.parsers.TextReader._setup_parser_source\u001b[0;34m()\u001b[0m\n",
      "\u001b[0;31mFileNotFoundError\u001b[0m: [Errno 2] File test.csv does not exist: 'test.csv'"
     ]
    }
   ],
   "source": [
    "train=pd.read_csv('train.csv')\n",
    "test=pd.read_csv('test.csv')"
   ]
  },
  {
   "cell_type": "code",
   "execution_count": null,
   "metadata": {
    "colab": {
     "base_uri": "https://localhost:8080/",
     "height": 499
    },
    "executionInfo": {
     "elapsed": 1531,
     "status": "ok",
     "timestamp": 1603285636611,
     "user": {
      "displayName": "Mohit Kumar",
      "photoUrl": "https://lh3.googleusercontent.com/a-/AOh14Gj8w3q63HFTUHmSvksuo2jqQuRy7MffzxIK9Ft9=s64",
      "userId": "10280412065584785973"
     },
     "user_tz": -330
    },
    "id": "O8Tmvd1X9zj4",
    "outputId": "593c6ed3-b3c7-4fa2-fe91-401353722bec"
   },
   "outputs": [
    {
     "data": {
      "text/html": [
       "<div>\n",
       "<style scoped>\n",
       "    .dataframe tbody tr th:only-of-type {\n",
       "        vertical-align: middle;\n",
       "    }\n",
       "\n",
       "    .dataframe tbody tr th {\n",
       "        vertical-align: top;\n",
       "    }\n",
       "\n",
       "    .dataframe thead th {\n",
       "        text-align: right;\n",
       "    }\n",
       "</style>\n",
       "<table border=\"1\" class=\"dataframe\">\n",
       "  <thead>\n",
       "    <tr style=\"text-align: right;\">\n",
       "      <th></th>\n",
       "      <th>PassengerId</th>\n",
       "      <th>Survived</th>\n",
       "      <th>Pclass</th>\n",
       "      <th>Name</th>\n",
       "      <th>Sex</th>\n",
       "      <th>Age</th>\n",
       "      <th>SibSp</th>\n",
       "      <th>Parch</th>\n",
       "      <th>Ticket</th>\n",
       "      <th>Fare</th>\n",
       "      <th>Cabin</th>\n",
       "      <th>Embarked</th>\n",
       "    </tr>\n",
       "  </thead>\n",
       "  <tbody>\n",
       "    <tr>\n",
       "      <th>0</th>\n",
       "      <td>1</td>\n",
       "      <td>0</td>\n",
       "      <td>3</td>\n",
       "      <td>Braund, Mr. Owen Harris</td>\n",
       "      <td>male</td>\n",
       "      <td>22.0</td>\n",
       "      <td>1</td>\n",
       "      <td>0</td>\n",
       "      <td>A/5 21171</td>\n",
       "      <td>7.2500</td>\n",
       "      <td>NaN</td>\n",
       "      <td>S</td>\n",
       "    </tr>\n",
       "    <tr>\n",
       "      <th>1</th>\n",
       "      <td>2</td>\n",
       "      <td>1</td>\n",
       "      <td>1</td>\n",
       "      <td>Cumings, Mrs. John Bradley (Florence Briggs Th...</td>\n",
       "      <td>female</td>\n",
       "      <td>38.0</td>\n",
       "      <td>1</td>\n",
       "      <td>0</td>\n",
       "      <td>PC 17599</td>\n",
       "      <td>71.2833</td>\n",
       "      <td>C85</td>\n",
       "      <td>C</td>\n",
       "    </tr>\n",
       "    <tr>\n",
       "      <th>2</th>\n",
       "      <td>3</td>\n",
       "      <td>1</td>\n",
       "      <td>3</td>\n",
       "      <td>Heikkinen, Miss. Laina</td>\n",
       "      <td>female</td>\n",
       "      <td>26.0</td>\n",
       "      <td>0</td>\n",
       "      <td>0</td>\n",
       "      <td>STON/O2. 3101282</td>\n",
       "      <td>7.9250</td>\n",
       "      <td>NaN</td>\n",
       "      <td>S</td>\n",
       "    </tr>\n",
       "    <tr>\n",
       "      <th>3</th>\n",
       "      <td>4</td>\n",
       "      <td>1</td>\n",
       "      <td>1</td>\n",
       "      <td>Futrelle, Mrs. Jacques Heath (Lily May Peel)</td>\n",
       "      <td>female</td>\n",
       "      <td>35.0</td>\n",
       "      <td>1</td>\n",
       "      <td>0</td>\n",
       "      <td>113803</td>\n",
       "      <td>53.1000</td>\n",
       "      <td>C123</td>\n",
       "      <td>S</td>\n",
       "    </tr>\n",
       "    <tr>\n",
       "      <th>4</th>\n",
       "      <td>5</td>\n",
       "      <td>0</td>\n",
       "      <td>3</td>\n",
       "      <td>Allen, Mr. William Henry</td>\n",
       "      <td>male</td>\n",
       "      <td>35.0</td>\n",
       "      <td>0</td>\n",
       "      <td>0</td>\n",
       "      <td>373450</td>\n",
       "      <td>8.0500</td>\n",
       "      <td>NaN</td>\n",
       "      <td>S</td>\n",
       "    </tr>\n",
       "  </tbody>\n",
       "</table>\n",
       "</div>"
      ],
      "text/plain": [
       "   PassengerId  Survived  Pclass  ...     Fare Cabin  Embarked\n",
       "0            1         0       3  ...   7.2500   NaN         S\n",
       "1            2         1       1  ...  71.2833   C85         C\n",
       "2            3         1       3  ...   7.9250   NaN         S\n",
       "3            4         1       1  ...  53.1000  C123         S\n",
       "4            5         0       3  ...   8.0500   NaN         S\n",
       "\n",
       "[5 rows x 12 columns]"
      ]
     },
     "execution_count": 7,
     "metadata": {
      "tags": []
     },
     "output_type": "execute_result"
    }
   ],
   "source": [
    "train.head(5)"
   ]
  },
  {
   "cell_type": "code",
   "execution_count": null,
   "metadata": {
    "colab": {
     "base_uri": "https://localhost:8080/",
     "height": 248
    },
    "executionInfo": {
     "elapsed": 1375,
     "status": "ok",
     "timestamp": 1603285640599,
     "user": {
      "displayName": "Mohit Kumar",
      "photoUrl": "https://lh3.googleusercontent.com/a-/AOh14Gj8w3q63HFTUHmSvksuo2jqQuRy7MffzxIK9Ft9=s64",
      "userId": "10280412065584785973"
     },
     "user_tz": -330
    },
    "id": "tcQODM2s73qA",
    "outputId": "ac1715b3-e5be-42e5-e5fd-7ea80d303e52"
   },
   "outputs": [
    {
     "data": {
      "text/plain": [
       "PassengerId      0\n",
       "Survived         0\n",
       "Pclass           0\n",
       "Name             0\n",
       "Sex              0\n",
       "Age            177\n",
       "SibSp            0\n",
       "Parch            0\n",
       "Ticket           0\n",
       "Fare             0\n",
       "Cabin          687\n",
       "Embarked         2\n",
       "dtype: int64"
      ]
     },
     "execution_count": 8,
     "metadata": {
      "tags": []
     },
     "output_type": "execute_result"
    }
   ],
   "source": [
    "train.isnull().sum()"
   ]
  },
  {
   "cell_type": "code",
   "execution_count": null,
   "metadata": {
    "colab": {
     "base_uri": "https://localhost:8080/",
     "height": 230
    },
    "executionInfo": {
     "elapsed": 1673,
     "status": "ok",
     "timestamp": 1603285644097,
     "user": {
      "displayName": "Mohit Kumar",
      "photoUrl": "https://lh3.googleusercontent.com/a-/AOh14Gj8w3q63HFTUHmSvksuo2jqQuRy7MffzxIK9Ft9=s64",
      "userId": "10280412065584785973"
     },
     "user_tz": -330
    },
    "id": "RB_Q6-tt9E1N",
    "outputId": "d091b384-c272-4830-b669-71c71c9fe79b"
   },
   "outputs": [
    {
     "data": {
      "text/plain": [
       "PassengerId      0\n",
       "Pclass           0\n",
       "Name             0\n",
       "Sex              0\n",
       "Age             86\n",
       "SibSp            0\n",
       "Parch            0\n",
       "Ticket           0\n",
       "Fare             1\n",
       "Cabin          327\n",
       "Embarked         0\n",
       "dtype: int64"
      ]
     },
     "execution_count": 9,
     "metadata": {
      "tags": []
     },
     "output_type": "execute_result"
    }
   ],
   "source": [
    "test.isnull().sum()"
   ]
  },
  {
   "cell_type": "code",
   "execution_count": 8,
   "metadata": {
    "executionInfo": {
     "elapsed": 1732,
     "status": "ok",
     "timestamp": 1603337471956,
     "user": {
      "displayName": "Mohit Kumar",
      "photoUrl": "https://lh3.googleusercontent.com/a-/AOh14Gj8w3q63HFTUHmSvksuo2jqQuRy7MffzxIK9Ft9=s64",
      "userId": "10280412065584785973"
     },
     "user_tz": -330
    },
    "id": "M6ZI5YBJ9nRU"
   },
   "outputs": [],
   "source": [
    "import matplotlib.pyplot as plt\n",
    "%matplotlib inline\n",
    "import seaborn as sns\n",
    "sns.set()"
   ]
  },
  {
   "cell_type": "code",
   "execution_count": 10,
   "metadata": {
    "executionInfo": {
     "elapsed": 1507,
     "status": "ok",
     "timestamp": 1603337476828,
     "user": {
      "displayName": "Mohit Kumar",
      "photoUrl": "https://lh3.googleusercontent.com/a-/AOh14Gj8w3q63HFTUHmSvksuo2jqQuRy7MffzxIK9Ft9=s64",
      "userId": "10280412065584785973"
     },
     "user_tz": -330
    },
    "id": "t8WjGkzB9w9n"
   },
   "outputs": [],
   "source": [
    "def bar_plot(feature):\n",
    "    survived=train[train['Survived']==1][feature].value_counts()\n",
    "    dead= train[train['Survived']==0][feature].value_counts()\n",
    "    data=pd.DataFrame([survived,dead])\n",
    "    data.index=['Survived','Dead']\n",
    "    data.plot(kind='bar',figsize=(10,5))"
   ]
  },
  {
   "cell_type": "code",
   "execution_count": null,
   "metadata": {
    "colab": {
     "base_uri": "https://localhost:8080/",
     "height": 149
    },
    "executionInfo": {
     "elapsed": 1426,
     "status": "ok",
     "timestamp": 1603285654668,
     "user": {
      "displayName": "Mohit Kumar",
      "photoUrl": "https://lh3.googleusercontent.com/a-/AOh14Gj8w3q63HFTUHmSvksuo2jqQuRy7MffzxIK9Ft9=s64",
      "userId": "10280412065584785973"
     },
     "user_tz": -330
    },
    "id": "HZsDcJTJAc6Z",
    "outputId": "87dcd536-c02e-44ae-86f9-30a8baf6708c"
   },
   "outputs": [
    {
     "data": {
      "image/png": "[encoded data removed]",
      "text/plain": [
       "<Figure size 720x360 with 1 Axes>"
      ]
     },
     "metadata": {
      "tags": []
     },
     "output_type": "display_data"
    }
   ],
   "source": [
    "bar_plot('Sex')"
   ]
  },
  {
   "cell_type": "code",
   "execution_count": null,
   "metadata": {
    "colab": {
     "base_uri": "https://localhost:8080/",
     "height": 149
    },
    "executionInfo": {
     "elapsed": 1378,
     "status": "ok",
     "timestamp": 1603285657852,
     "user": {
      "displayName": "Mohit Kumar",
      "photoUrl": "https://lh3.googleusercontent.com/a-/AOh14Gj8w3q63HFTUHmSvksuo2jqQuRy7MffzxIK9Ft9=s64",
      "userId": "10280412065584785973"
     },
     "user_tz": -330
    },
    "id": "QNa0zrJhBOtr",
    "outputId": "b318a964-fd0f-4c68-c6d6-4f9d44b08109"
   },
   "outputs": [
    {
     "data": {
      "image/png": "[encoded data removed]",
      "text/plain": [
       "<Figure size 720x360 with 1 Axes>"
      ]
     },
     "metadata": {
      "tags": []
     },
     "output_type": "display_data"
    }
   ],
   "source": [
    "bar_plot('Pclass')"
   ]
  },
  {
   "cell_type": "code",
   "execution_count": null,
   "metadata": {
    "colab": {
     "base_uri": "https://localhost:8080/",
     "height": 149
    },
    "executionInfo": {
     "elapsed": 1410,
     "status": "ok",
     "timestamp": 1603266733579,
     "user": {
      "displayName": "Mohit Kumar",
      "photoUrl": "https://lh3.googleusercontent.com/a-/AOh14Gj8w3q63HFTUHmSvksuo2jqQuRy7MffzxIK9Ft9=s64",
      "userId": "10280412065584785973"
     },
     "user_tz": -330
    },
    "id": "I5Ter2oiBhOX",
    "outputId": "17e52a60-8c41-47a6-f3db-34aa5eb80106"
   },
   "outputs": [
    {
     "data": {
      "image/png": "[encoded data removed]",
      "text/plain": [
       "<Figure size 720x360 with 1 Axes>"
      ]
     },
     "metadata": {
      "tags": []
     },
     "output_type": "display_data"
    }
   ],
   "source": [
    " bar_plot('Parch')"
   ]
  },
  {
   "cell_type": "code",
   "execution_count": null,
   "metadata": {
    "colab": {
     "base_uri": "https://localhost:8080/",
     "height": 149
    },
    "executionInfo": {
     "elapsed": 1193,
     "status": "ok",
     "timestamp": 1603266736483,
     "user": {
      "displayName": "Mohit Kumar",
      "photoUrl": "https://lh3.googleusercontent.com/a-/AOh14Gj8w3q63HFTUHmSvksuo2jqQuRy7MffzxIK9Ft9=s64",
      "userId": "10280412065584785973"
     },
     "user_tz": -330
    },
    "id": "0NqNfCdqB0NK",
    "outputId": "146d795e-0e27-47b1-f0ce-e1963073543f"
   },
   "outputs": [
    {
     "data": {
      "image/png": "[encoded data removed]",
      "text/plain": [
       "<Figure size 720x360 with 1 Axes>"
      ]
     },
     "metadata": {
      "tags": []
     },
     "output_type": "display_data"
    }
   ],
   "source": [
    " bar_plot('Embarked')"
   ]
  },
  {
   "cell_type": "code",
   "execution_count": 11,
   "metadata": {
    "executionInfo": {
     "elapsed": 1930,
     "status": "ok",
     "timestamp": 1603337482270,
     "user": {
      "displayName": "Mohit Kumar",
      "photoUrl": "https://lh3.googleusercontent.com/a-/AOh14Gj8w3q63HFTUHmSvksuo2jqQuRy7MffzxIK9Ft9=s64",
      "userId": "10280412065584785973"
     },
     "user_tz": -330
    },
    "id": "OHFXL4OWB4oH"
   },
   "outputs": [],
   "source": [
    " combined=[train, test] # combining train and test dataset\n",
    " \n",
    "for dataset in combined:\n",
    "    dataset['Title'] = dataset['Name'].str.extract(' ([A-Za-z]+)\\.', expand=False)"
   ]
  },
  {
   "cell_type": "code",
   "execution_count": 12,
   "metadata": {
    "colab": {
     "base_uri": "https://localhost:8080/",
     "height": 337
    },
    "executionInfo": {
     "elapsed": 1664,
     "status": "ok",
     "timestamp": 1603337487306,
     "user": {
      "displayName": "Mohit Kumar",
      "photoUrl": "https://lh3.googleusercontent.com/a-/AOh14Gj8w3q63HFTUHmSvksuo2jqQuRy7MffzxIK9Ft9=s64",
      "userId": "10280412065584785973"
     },
     "user_tz": -330
    },
    "id": "UD4-d8t6Cvmc",
    "outputId": "cff193bb-dffa-4261-90ea-7da7f50f75db"
   },
   "outputs": [
    {
     "data": {
      "text/plain": [
       "Mr          517\n",
       "Miss        182\n",
       "Mrs         125\n",
       "Master       40\n",
       "Dr            7\n",
       "Rev           6\n",
       "Major         2\n",
       "Col           2\n",
       "Mlle          2\n",
       "Jonkheer      1\n",
       "Capt          1\n",
       "Ms            1\n",
       "Sir           1\n",
       "Mme           1\n",
       "Don           1\n",
       "Lady          1\n",
       "Countess      1\n",
       "Name: Title, dtype: int64"
      ]
     },
     "execution_count": 12,
     "metadata": {
      "tags": []
     },
     "output_type": "execute_result"
    }
   ],
   "source": [
    " train['Title'].value_counts()"
   ]
  },
  {
   "cell_type": "code",
   "execution_count": 13,
   "metadata": {
    "executionInfo": {
     "elapsed": 1888,
     "status": "ok",
     "timestamp": 1603337491563,
     "user": {
      "displayName": "Mohit Kumar",
      "photoUrl": "https://lh3.googleusercontent.com/a-/AOh14Gj8w3q63HFTUHmSvksuo2jqQuRy7MffzxIK9Ft9=s64",
      "userId": "10280412065584785973"
     },
     "user_tz": -330
    },
    "id": "di7IGZw-DO_A"
   },
   "outputs": [],
   "source": [
    " title_mapping = {\"Mr\": 0, \"Miss\": 1, \"Mrs\": 2, \n",
    "                 \"Master\": 3, \"Dr\": 3, \"Rev\": 3, \"Col\": 3, \"Major\": 3, \"Mlle\": 3,\"Countess\": 3,\n",
    "                 \"Ms\": 3, \"Lady\": 3, \"Jonkheer\": 3, \"Don\": 3, \"Dona\" : 3, \"Mme\": 3,\"Capt\": 3,\"Sir\": 3 }\n",
    "for dataset in combined:\n",
    "    dataset['Title'] = dataset['Title'].map(title_mapping)"
   ]
  },
  {
   "cell_type": "code",
   "execution_count": null,
   "metadata": {
    "colab": {
     "base_uri": "https://localhost:8080/",
     "height": 149
    },
    "executionInfo": {
     "elapsed": 1165,
     "status": "ok",
     "timestamp": 1603266785414,
     "user": {
      "displayName": "Mohit Kumar",
      "photoUrl": "https://lh3.googleusercontent.com/a-/AOh14Gj8w3q63HFTUHmSvksuo2jqQuRy7MffzxIK9Ft9=s64",
      "userId": "10280412065584785973"
     },
     "user_tz": -330
    },
    "id": "somScX94Ddip",
    "outputId": "70ed0ba0-5b21-4353-ae60-7592231b2376"
   },
   "outputs": [
    {
     "data": {
      "image/png": "[encoded data removed]",
      "text/plain": [
       "<Figure size 720x360 with 1 Axes>"
      ]
     },
     "metadata": {
      "tags": []
     },
     "output_type": "display_data"
    }
   ],
   "source": [
    "bar_plot('Title')"
   ]
  },
  {
   "cell_type": "code",
   "execution_count": 14,
   "metadata": {
    "executionInfo": {
     "elapsed": 1531,
     "status": "ok",
     "timestamp": 1603337496283,
     "user": {
      "displayName": "Mohit Kumar",
      "photoUrl": "https://lh3.googleusercontent.com/a-/AOh14Gj8w3q63HFTUHmSvksuo2jqQuRy7MffzxIK9Ft9=s64",
      "userId": "10280412065584785973"
     },
     "user_tz": -330
    },
    "id": "Zm9zqqUYDjxG"
   },
   "outputs": [],
   "source": [
    " train.drop('Name', axis=1, inplace=True)\n",
    "test.drop('Name', axis=1, inplace=True)"
   ]
  },
  {
   "cell_type": "code",
   "execution_count": 15,
   "metadata": {
    "executionInfo": {
     "elapsed": 1728,
     "status": "ok",
     "timestamp": 1603337499314,
     "user": {
      "displayName": "Mohit Kumar",
      "photoUrl": "https://lh3.googleusercontent.com/a-/AOh14Gj8w3q63HFTUHmSvksuo2jqQuRy7MffzxIK9Ft9=s64",
      "userId": "10280412065584785973"
     },
     "user_tz": -330
    },
    "id": "8T0HMoLdDrzC"
   },
   "outputs": [],
   "source": [
    " sex_mapping = {\"male\": 0, \"female\": 1}\n",
    "for dataset in combined:\n",
    "    dataset['Sex'] = dataset['Sex'].map(sex_mapping)"
   ]
  },
  {
   "cell_type": "code",
   "execution_count": 17,
   "metadata": {
    "executionInfo": {
     "elapsed": 1671,
     "status": "ok",
     "timestamp": 1603337505211,
     "user": {
      "displayName": "Mohit Kumar",
      "photoUrl": "https://lh3.googleusercontent.com/a-/AOh14Gj8w3q63HFTUHmSvksuo2jqQuRy7MffzxIK9Ft9=s64",
      "userId": "10280412065584785973"
     },
     "user_tz": -330
    },
    "id": "KyDXV4dlEB8y"
   },
   "outputs": [],
   "source": [
    " train[\"Age\"].fillna(train.groupby(\"Title\")[\"Age\"].transform(\"median\"), inplace=True)\n",
    "test[\"Age\"].fillna(test.groupby(\"Title\")[\"Age\"].transform(\"median\"), inplace=True)"
   ]
  },
  {
   "cell_type": "code",
   "execution_count": null,
   "metadata": {
    "colab": {
     "base_uri": "https://localhost:8080/",
     "height": 256
    },
    "executionInfo": {
     "elapsed": 1575,
     "status": "ok",
     "timestamp": 1603299639005,
     "user": {
      "displayName": "Mohit Kumar",
      "photoUrl": "https://lh3.googleusercontent.com/a-/AOh14Gj8w3q63HFTUHmSvksuo2jqQuRy7MffzxIK9Ft9=s64",
      "userId": "10280412065584785973"
     },
     "user_tz": -330
    },
    "id": "JbucSKIpEWmF",
    "outputId": "3aac7265-54d2-4129-cadd-08485449b262"
   },
   "outputs": [
    {
     "data": {
      "text/html": [
       "<div>\n",
       "<style scoped>\n",
       "    .dataframe tbody tr th:only-of-type {\n",
       "        vertical-align: middle;\n",
       "    }\n",
       "\n",
       "    .dataframe tbody tr th {\n",
       "        vertical-align: top;\n",
       "    }\n",
       "\n",
       "    .dataframe thead th {\n",
       "        text-align: right;\n",
       "    }\n",
       "</style>\n",
       "<table border=\"1\" class=\"dataframe\">\n",
       "  <thead>\n",
       "    <tr style=\"text-align: right;\">\n",
       "      <th></th>\n",
       "      <th>PassengerId</th>\n",
       "      <th>Survived</th>\n",
       "      <th>Pclass</th>\n",
       "      <th>Sex</th>\n",
       "      <th>Age</th>\n",
       "      <th>SibSp</th>\n",
       "      <th>Parch</th>\n",
       "      <th>Ticket</th>\n",
       "      <th>Fare</th>\n",
       "      <th>Cabin</th>\n",
       "      <th>Embarked</th>\n",
       "      <th>Title</th>\n",
       "    </tr>\n",
       "  </thead>\n",
       "  <tbody>\n",
       "    <tr>\n",
       "      <th>0</th>\n",
       "      <td>1</td>\n",
       "      <td>0</td>\n",
       "      <td>3</td>\n",
       "      <td>0</td>\n",
       "      <td>22.0</td>\n",
       "      <td>1</td>\n",
       "      <td>0</td>\n",
       "      <td>A/5 21171</td>\n",
       "      <td>7.2500</td>\n",
       "      <td>NaN</td>\n",
       "      <td>S</td>\n",
       "      <td>0</td>\n",
       "    </tr>\n",
       "    <tr>\n",
       "      <th>1</th>\n",
       "      <td>2</td>\n",
       "      <td>1</td>\n",
       "      <td>1</td>\n",
       "      <td>1</td>\n",
       "      <td>38.0</td>\n",
       "      <td>1</td>\n",
       "      <td>0</td>\n",
       "      <td>PC 17599</td>\n",
       "      <td>71.2833</td>\n",
       "      <td>C85</td>\n",
       "      <td>C</td>\n",
       "      <td>2</td>\n",
       "    </tr>\n",
       "    <tr>\n",
       "      <th>2</th>\n",
       "      <td>3</td>\n",
       "      <td>1</td>\n",
       "      <td>3</td>\n",
       "      <td>1</td>\n",
       "      <td>26.0</td>\n",
       "      <td>0</td>\n",
       "      <td>0</td>\n",
       "      <td>STON/O2. 3101282</td>\n",
       "      <td>7.9250</td>\n",
       "      <td>NaN</td>\n",
       "      <td>S</td>\n",
       "      <td>1</td>\n",
       "    </tr>\n",
       "    <tr>\n",
       "      <th>3</th>\n",
       "      <td>4</td>\n",
       "      <td>1</td>\n",
       "      <td>1</td>\n",
       "      <td>1</td>\n",
       "      <td>35.0</td>\n",
       "      <td>1</td>\n",
       "      <td>0</td>\n",
       "      <td>113803</td>\n",
       "      <td>53.1000</td>\n",
       "      <td>C123</td>\n",
       "      <td>S</td>\n",
       "      <td>2</td>\n",
       "    </tr>\n",
       "    <tr>\n",
       "      <th>4</th>\n",
       "      <td>5</td>\n",
       "      <td>0</td>\n",
       "      <td>3</td>\n",
       "      <td>0</td>\n",
       "      <td>35.0</td>\n",
       "      <td>0</td>\n",
       "      <td>0</td>\n",
       "      <td>373450</td>\n",
       "      <td>8.0500</td>\n",
       "      <td>NaN</td>\n",
       "      <td>S</td>\n",
       "      <td>0</td>\n",
       "    </tr>\n",
       "  </tbody>\n",
       "</table>\n",
       "</div>"
      ],
      "text/plain": [
       "   PassengerId  Survived  Pclass  Sex  ...     Fare  Cabin  Embarked Title\n",
       "0            1         0       3    0  ...   7.2500    NaN         S     0\n",
       "1            2         1       1    1  ...  71.2833    C85         C     2\n",
       "2            3         1       3    1  ...   7.9250    NaN         S     1\n",
       "3            4         1       1    1  ...  53.1000   C123         S     2\n",
       "4            5         0       3    0  ...   8.0500    NaN         S     0\n",
       "\n",
       "[5 rows x 12 columns]"
      ]
     },
     "execution_count": 16,
     "metadata": {
      "tags": []
     },
     "output_type": "execute_result"
    }
   ],
   "source": [
    "train.head()"
   ]
  },
  {
   "cell_type": "code",
   "execution_count": 18,
   "metadata": {
    "executionInfo": {
     "elapsed": 1447,
     "status": "ok",
     "timestamp": 1603337509117,
     "user": {
      "displayName": "Mohit Kumar",
      "photoUrl": "https://lh3.googleusercontent.com/a-/AOh14Gj8w3q63HFTUHmSvksuo2jqQuRy7MffzxIK9Ft9=s64",
      "userId": "10280412065584785973"
     },
     "user_tz": -330
    },
    "id": "14lIvkx3FRZ2"
   },
   "outputs": [],
   "source": [
    " for dataset in combined:\n",
    "    dataset['Embarked'] = dataset['Embarked'].fillna('S')"
   ]
  },
  {
   "cell_type": "code",
   "execution_count": 19,
   "metadata": {
    "executionInfo": {
     "elapsed": 1048,
     "status": "ok",
     "timestamp": 1603337510946,
     "user": {
      "displayName": "Mohit Kumar",
      "photoUrl": "https://lh3.googleusercontent.com/a-/AOh14Gj8w3q63HFTUHmSvksuo2jqQuRy7MffzxIK9Ft9=s64",
      "userId": "10280412065584785973"
     },
     "user_tz": -330
    },
    "id": "jCms8m_hFbcM"
   },
   "outputs": [],
   "source": [
    " embarked_mapping = {\"S\": 0, \"C\": 1, \"Q\": 2}\n",
    "for dataset in combined:\n",
    "    dataset['Embarked'] = dataset['Embarked'].map(embarked_mapping)"
   ]
  },
  {
   "cell_type": "code",
   "execution_count": 20,
   "metadata": {
    "executionInfo": {
     "elapsed": 970,
     "status": "ok",
     "timestamp": 1603337513004,
     "user": {
      "displayName": "Mohit Kumar",
      "photoUrl": "https://lh3.googleusercontent.com/a-/AOh14Gj8w3q63HFTUHmSvksuo2jqQuRy7MffzxIK9Ft9=s64",
      "userId": "10280412065584785973"
     },
     "user_tz": -330
    },
    "id": "b6WXswSYFq1L"
   },
   "outputs": [],
   "source": [
    "train[\"Fare\"].fillna(train.groupby(\"Pclass\")[\"Fare\"].transform(\"median\"), inplace=True)\n",
    "test[\"Fare\"].fillna(test.groupby(\"Pclass\")[\"Fare\"].transform(\"median\"), inplace=True)"
   ]
  },
  {
   "cell_type": "code",
   "execution_count": 21,
   "metadata": {
    "executionInfo": {
     "elapsed": 895,
     "status": "ok",
     "timestamp": 1603337515211,
     "user": {
      "displayName": "Mohit Kumar",
      "photoUrl": "https://lh3.googleusercontent.com/a-/AOh14Gj8w3q63HFTUHmSvksuo2jqQuRy7MffzxIK9Ft9=s64",
      "userId": "10280412065584785973"
     },
     "user_tz": -330
    },
    "id": "Kd6kdNGDGHTm"
   },
   "outputs": [],
   "source": [
    "dataset.loc[ dataset['Fare'] <= 17, 'Fare'] = 0"
   ]
  },
  {
   "cell_type": "code",
   "execution_count": 22,
   "metadata": {
    "executionInfo": {
     "elapsed": 929,
     "status": "ok",
     "timestamp": 1603337517094,
     "user": {
      "displayName": "Mohit Kumar",
      "photoUrl": "https://lh3.googleusercontent.com/a-/AOh14Gj8w3q63HFTUHmSvksuo2jqQuRy7MffzxIK9Ft9=s64",
      "userId": "10280412065584785973"
     },
     "user_tz": -330
    },
    "id": "q449jMB9H0Xg"
   },
   "outputs": [],
   "source": [
    "dataset.loc[(dataset['Fare'] > 17) & (dataset['Fare'] <= 30), 'Fare'] = 1"
   ]
  },
  {
   "cell_type": "code",
   "execution_count": 23,
   "metadata": {
    "executionInfo": {
     "elapsed": 1618,
     "status": "ok",
     "timestamp": 1603337520846,
     "user": {
      "displayName": "Mohit Kumar",
      "photoUrl": "https://lh3.googleusercontent.com/a-/AOh14Gj8w3q63HFTUHmSvksuo2jqQuRy7MffzxIK9Ft9=s64",
      "userId": "10280412065584785973"
     },
     "user_tz": -330
    },
    "id": "QqY11zBFIYqV"
   },
   "outputs": [],
   "source": [
    " dataset.loc[(dataset['Fare'] > 30) & (dataset['Fare'] <= 100), 'Fare'] = 2"
   ]
  },
  {
   "cell_type": "code",
   "execution_count": 24,
   "metadata": {
    "executionInfo": {
     "elapsed": 1618,
     "status": "ok",
     "timestamp": 1603337523568,
     "user": {
      "displayName": "Mohit Kumar",
      "photoUrl": "https://lh3.googleusercontent.com/a-/AOh14Gj8w3q63HFTUHmSvksuo2jqQuRy7MffzxIK9Ft9=s64",
      "userId": "10280412065584785973"
     },
     "user_tz": -330
    },
    "id": "Xx6UMh7KIgOf"
   },
   "outputs": [],
   "source": [
    " dataset.loc[ dataset['Fare'] > 100, 'Fare'] = 3"
   ]
  },
  {
   "cell_type": "code",
   "execution_count": null,
   "metadata": {
    "colab": {
     "base_uri": "https://localhost:8080/",
     "height": 222
    },
    "executionInfo": {
     "elapsed": 1270,
     "status": "ok",
     "timestamp": 1603286887953,
     "user": {
      "displayName": "Mohit Kumar",
      "photoUrl": "https://lh3.googleusercontent.com/a-/AOh14Gj8w3q63HFTUHmSvksuo2jqQuRy7MffzxIK9Ft9=s64",
      "userId": "10280412065584785973"
     },
     "user_tz": -330
    },
    "id": "KQ-l-1xeIg1W",
    "outputId": "30b0c9e4-939e-407f-aa1a-89d734e7566b"
   },
   "outputs": [
    {
     "data": {
      "text/html": [
       "<div>\n",
       "<style scoped>\n",
       "    .dataframe tbody tr th:only-of-type {\n",
       "        vertical-align: middle;\n",
       "    }\n",
       "\n",
       "    .dataframe tbody tr th {\n",
       "        vertical-align: top;\n",
       "    }\n",
       "\n",
       "    .dataframe thead th {\n",
       "        text-align: right;\n",
       "    }\n",
       "</style>\n",
       "<table border=\"1\" class=\"dataframe\">\n",
       "  <thead>\n",
       "    <tr style=\"text-align: right;\">\n",
       "      <th></th>\n",
       "      <th>PassengerId</th>\n",
       "      <th>Survived</th>\n",
       "      <th>Pclass</th>\n",
       "      <th>Sex</th>\n",
       "      <th>Age</th>\n",
       "      <th>SibSp</th>\n",
       "      <th>Parch</th>\n",
       "      <th>Fare</th>\n",
       "      <th>Embarked</th>\n",
       "      <th>Title</th>\n",
       "    </tr>\n",
       "  </thead>\n",
       "  <tbody>\n",
       "    <tr>\n",
       "      <th>0</th>\n",
       "      <td>1</td>\n",
       "      <td>0</td>\n",
       "      <td>3</td>\n",
       "      <td>0</td>\n",
       "      <td>22.0</td>\n",
       "      <td>1</td>\n",
       "      <td>0</td>\n",
       "      <td>7.2500</td>\n",
       "      <td>0</td>\n",
       "      <td>0</td>\n",
       "    </tr>\n",
       "    <tr>\n",
       "      <th>1</th>\n",
       "      <td>2</td>\n",
       "      <td>1</td>\n",
       "      <td>1</td>\n",
       "      <td>1</td>\n",
       "      <td>38.0</td>\n",
       "      <td>1</td>\n",
       "      <td>0</td>\n",
       "      <td>71.2833</td>\n",
       "      <td>1</td>\n",
       "      <td>2</td>\n",
       "    </tr>\n",
       "    <tr>\n",
       "      <th>2</th>\n",
       "      <td>3</td>\n",
       "      <td>1</td>\n",
       "      <td>3</td>\n",
       "      <td>1</td>\n",
       "      <td>26.0</td>\n",
       "      <td>0</td>\n",
       "      <td>0</td>\n",
       "      <td>7.9250</td>\n",
       "      <td>0</td>\n",
       "      <td>1</td>\n",
       "    </tr>\n",
       "    <tr>\n",
       "      <th>3</th>\n",
       "      <td>4</td>\n",
       "      <td>1</td>\n",
       "      <td>1</td>\n",
       "      <td>1</td>\n",
       "      <td>35.0</td>\n",
       "      <td>1</td>\n",
       "      <td>0</td>\n",
       "      <td>53.1000</td>\n",
       "      <td>0</td>\n",
       "      <td>2</td>\n",
       "    </tr>\n",
       "    <tr>\n",
       "      <th>4</th>\n",
       "      <td>5</td>\n",
       "      <td>0</td>\n",
       "      <td>3</td>\n",
       "      <td>0</td>\n",
       "      <td>35.0</td>\n",
       "      <td>0</td>\n",
       "      <td>0</td>\n",
       "      <td>8.0500</td>\n",
       "      <td>0</td>\n",
       "      <td>0</td>\n",
       "    </tr>\n",
       "  </tbody>\n",
       "</table>\n",
       "</div>"
      ],
      "text/plain": [
       "   PassengerId  Survived  Pclass  Sex  ...  Parch     Fare  Embarked  Title\n",
       "0            1         0       3    0  ...      0   7.2500         0      0\n",
       "1            2         1       1    1  ...      0  71.2833         1      2\n",
       "2            3         1       3    1  ...      0   7.9250         0      1\n",
       "3            4         1       1    1  ...      0  53.1000         0      2\n",
       "4            5         0       3    0  ...      0   8.0500         0      0\n",
       "\n",
       "[5 rows x 10 columns]"
      ]
     },
     "execution_count": 52,
     "metadata": {
      "tags": []
     },
     "output_type": "execute_result"
    }
   ],
   "source": [
    "train.head()"
   ]
  },
  {
   "cell_type": "code",
   "execution_count": 25,
   "metadata": {
    "executionInfo": {
     "elapsed": 1457,
     "status": "ok",
     "timestamp": 1603337527793,
     "user": {
      "displayName": "Mohit Kumar",
      "photoUrl": "https://lh3.googleusercontent.com/a-/AOh14Gj8w3q63HFTUHmSvksuo2jqQuRy7MffzxIK9Ft9=s64",
      "userId": "10280412065584785973"
     },
     "user_tz": -330
    },
    "id": "vO8-KjmLVoYM"
   },
   "outputs": [],
   "source": [
    "train.drop('Cabin', axis=1, inplace=True)\n",
    "test.drop('Cabin', axis=1, inplace=True)"
   ]
  },
  {
   "cell_type": "code",
   "execution_count": 26,
   "metadata": {
    "executionInfo": {
     "elapsed": 1730,
     "status": "ok",
     "timestamp": 1603337532148,
     "user": {
      "displayName": "Mohit Kumar",
      "photoUrl": "https://lh3.googleusercontent.com/a-/AOh14Gj8w3q63HFTUHmSvksuo2jqQuRy7MffzxIK9Ft9=s64",
      "userId": "10280412065584785973"
     },
     "user_tz": -330
    },
    "id": "ltCwLJEVHLFa"
   },
   "outputs": [],
   "source": [
    " \n",
    "train.drop('Ticket', axis=1, inplace=True)\n",
    "test.drop('Ticket', axis=1, inplace=True)"
   ]
  },
  {
   "cell_type": "code",
   "execution_count": 27,
   "metadata": {
    "executionInfo": {
     "elapsed": 880,
     "status": "ok",
     "timestamp": 1603337534863,
     "user": {
      "displayName": "Mohit Kumar",
      "photoUrl": "https://lh3.googleusercontent.com/a-/AOh14Gj8w3q63HFTUHmSvksuo2jqQuRy7MffzxIK9Ft9=s64",
      "userId": "10280412065584785973"
     },
     "user_tz": -330
    },
    "id": "rAxN8hMbWDup"
   },
   "outputs": [],
   "source": [
    " features_drop = ['SibSp', 'Parch']\n",
    "train = train.drop(features_drop, axis=1)\n",
    "test = test.drop(features_drop, axis=1)\n",
    "train = train.drop(['PassengerId'], axis=1)"
   ]
  },
  {
   "cell_type": "code",
   "execution_count": 28,
   "metadata": {
    "colab": {
     "base_uri": "https://localhost:8080/",
     "height": 34
    },
    "executionInfo": {
     "elapsed": 1502,
     "status": "ok",
     "timestamp": 1603337541452,
     "user": {
      "displayName": "Mohit Kumar",
      "photoUrl": "https://lh3.googleusercontent.com/a-/AOh14Gj8w3q63HFTUHmSvksuo2jqQuRy7MffzxIK9Ft9=s64",
      "userId": "10280412065584785973"
     },
     "user_tz": -330
    },
    "id": "yLtS6IcLXqVs",
    "outputId": "d988c864-7250-4ca6-bc17-a283f4e1b9f4"
   },
   "outputs": [
    {
     "data": {
      "text/plain": [
       "((891, 6), (891,))"
      ]
     },
     "execution_count": 28,
     "metadata": {
      "tags": []
     },
     "output_type": "execute_result"
    }
   ],
   "source": [
    " train_data = train.drop('Survived', axis=1)\n",
    "target = train['Survived']\n",
    " \n",
    "train_data.shape, target.shape"
   ]
  },
  {
   "cell_type": "code",
   "execution_count": null,
   "metadata": {
    "colab": {
     "base_uri": "https://localhost:8080/",
     "height": 222
    },
    "executionInfo": {
     "elapsed": 1203,
     "status": "ok",
     "timestamp": 1603299793073,
     "user": {
      "displayName": "Mohit Kumar",
      "photoUrl": "https://lh3.googleusercontent.com/a-/AOh14Gj8w3q63HFTUHmSvksuo2jqQuRy7MffzxIK9Ft9=s64",
      "userId": "10280412065584785973"
     },
     "user_tz": -330
    },
    "id": "0HPXaSLkYAza",
    "outputId": "d90faeb7-a564-4520-a26c-b24f9188e15e"
   },
   "outputs": [
    {
     "data": {
      "text/html": [
       "<div>\n",
       "<style scoped>\n",
       "    .dataframe tbody tr th:only-of-type {\n",
       "        vertical-align: middle;\n",
       "    }\n",
       "\n",
       "    .dataframe tbody tr th {\n",
       "        vertical-align: top;\n",
       "    }\n",
       "\n",
       "    .dataframe thead th {\n",
       "        text-align: right;\n",
       "    }\n",
       "</style>\n",
       "<table border=\"1\" class=\"dataframe\">\n",
       "  <thead>\n",
       "    <tr style=\"text-align: right;\">\n",
       "      <th></th>\n",
       "      <th>Pclass</th>\n",
       "      <th>Sex</th>\n",
       "      <th>Age</th>\n",
       "      <th>Fare</th>\n",
       "      <th>Embarked</th>\n",
       "      <th>Title</th>\n",
       "    </tr>\n",
       "  </thead>\n",
       "  <tbody>\n",
       "    <tr>\n",
       "      <th>0</th>\n",
       "      <td>3</td>\n",
       "      <td>0</td>\n",
       "      <td>22.0</td>\n",
       "      <td>7.2500</td>\n",
       "      <td>0</td>\n",
       "      <td>0</td>\n",
       "    </tr>\n",
       "    <tr>\n",
       "      <th>1</th>\n",
       "      <td>1</td>\n",
       "      <td>1</td>\n",
       "      <td>38.0</td>\n",
       "      <td>71.2833</td>\n",
       "      <td>1</td>\n",
       "      <td>2</td>\n",
       "    </tr>\n",
       "    <tr>\n",
       "      <th>2</th>\n",
       "      <td>3</td>\n",
       "      <td>1</td>\n",
       "      <td>26.0</td>\n",
       "      <td>7.9250</td>\n",
       "      <td>0</td>\n",
       "      <td>1</td>\n",
       "    </tr>\n",
       "    <tr>\n",
       "      <th>3</th>\n",
       "      <td>1</td>\n",
       "      <td>1</td>\n",
       "      <td>35.0</td>\n",
       "      <td>53.1000</td>\n",
       "      <td>0</td>\n",
       "      <td>2</td>\n",
       "    </tr>\n",
       "    <tr>\n",
       "      <th>4</th>\n",
       "      <td>3</td>\n",
       "      <td>0</td>\n",
       "      <td>35.0</td>\n",
       "      <td>8.0500</td>\n",
       "      <td>0</td>\n",
       "      <td>0</td>\n",
       "    </tr>\n",
       "  </tbody>\n",
       "</table>\n",
       "</div>"
      ],
      "text/plain": [
       "   Pclass  Sex   Age     Fare  Embarked  Title\n",
       "0       3    0  22.0   7.2500         0      0\n",
       "1       1    1  38.0  71.2833         1      2\n",
       "2       3    1  26.0   7.9250         0      1\n",
       "3       1    1  35.0  53.1000         0      2\n",
       "4       3    0  35.0   8.0500         0      0"
      ]
     },
     "execution_count": 38,
     "metadata": {
      "tags": []
     },
     "output_type": "execute_result"
    }
   ],
   "source": [
    "train_data.head()"
   ]
  },
  {
   "cell_type": "code",
   "execution_count": 29,
   "metadata": {
    "executionInfo": {
     "elapsed": 1858,
     "status": "ok",
     "timestamp": 1603337547470,
     "user": {
      "displayName": "Mohit Kumar",
      "photoUrl": "https://lh3.googleusercontent.com/a-/AOh14Gj8w3q63HFTUHmSvksuo2jqQuRy7MffzxIK9Ft9=s64",
      "userId": "10280412065584785973"
     },
     "user_tz": -330
    },
    "id": "nYE8O5E_YTXx"
   },
   "outputs": [],
   "source": [
    "from sklearn.ensemble import RandomForestRegressor\n",
    "rf= RandomForestRegressor()"
   ]
  },
  {
   "cell_type": "code",
   "execution_count": 30,
   "metadata": {
    "executionInfo": {
     "elapsed": 922,
     "status": "ok",
     "timestamp": 1603337549397,
     "user": {
      "displayName": "Mohit Kumar",
      "photoUrl": "https://lh3.googleusercontent.com/a-/AOh14Gj8w3q63HFTUHmSvksuo2jqQuRy7MffzxIK9Ft9=s64",
      "userId": "10280412065584785973"
     },
     "user_tz": -330
    },
    "id": "og2_7wYOY-4D"
   },
   "outputs": [],
   "source": [
    "n_estimators=[int(x) for x in np.linspace(start=100, stop=1200, num=12)]\n",
    "max_features= ['auto','sqrt']\n",
    "max_depth= [int(x) for x in np.linspace(5,30, num=6)]\n",
    "min_samples_split=[2,5,10,15,100]\n",
    "min_samples_leaf= [1,2,5,10]"
   ]
  },
  {
   "cell_type": "code",
   "execution_count": 31,
   "metadata": {
    "executionInfo": {
     "elapsed": 1491,
     "status": "ok",
     "timestamp": 1603337553226,
     "user": {
      "displayName": "Mohit Kumar",
      "photoUrl": "https://lh3.googleusercontent.com/a-/AOh14Gj8w3q63HFTUHmSvksuo2jqQuRy7MffzxIK9Ft9=s64",
      "userId": "10280412065584785973"
     },
     "user_tz": -330
    },
    "id": "ngkbxu7RaTGd"
   },
   "outputs": [],
   "source": [
    "from sklearn.model_selection import RandomizedSearchCV"
   ]
  },
  {
   "cell_type": "code",
   "execution_count": 32,
   "metadata": {
    "executionInfo": {
     "elapsed": 1482,
     "status": "ok",
     "timestamp": 1603337556901,
     "user": {
      "displayName": "Mohit Kumar",
      "photoUrl": "https://lh3.googleusercontent.com/a-/AOh14Gj8w3q63HFTUHmSvksuo2jqQuRy7MffzxIK9Ft9=s64",
      "userId": "10280412065584785973"
     },
     "user_tz": -330
    },
    "id": "eDmyqmgqafTO"
   },
   "outputs": [],
   "source": [
    "random_grid = {'n_estimators':n_estimators,\n",
    "'max_features':max_features,\n",
    "'max_depth':max_depth,\n",
    "'min_samples_split':min_samples_split,\n",
    "'min_samples_leaf':min_samples_leaf}"
   ]
  },
  {
   "cell_type": "code",
   "execution_count": 33,
   "metadata": {
    "executionInfo": {
     "elapsed": 1648,
     "status": "ok",
     "timestamp": 1603337567368,
     "user": {
      "displayName": "Mohit Kumar",
      "photoUrl": "https://lh3.googleusercontent.com/a-/AOh14Gj8w3q63HFTUHmSvksuo2jqQuRy7MffzxIK9Ft9=s64",
      "userId": "10280412065584785973"
     },
     "user_tz": -330
    },
    "id": "eNNo8dXFbhyM"
   },
   "outputs": [],
   "source": [
    "X_train= train_data\n",
    "y_train= target"
   ]
  },
  {
   "cell_type": "code",
   "execution_count": null,
   "metadata": {
    "id": "8Nv9pqGMc0nt"
   },
   "outputs": [],
   "source": [
    " clf = RandomizedSearchCV(rf, random_grid, n_iter=100, cv=5, random_state=1)\n",
    " \n",
    "model = clf.fit(X_train, y_train)"
   ]
  }
 ],
 "metadata": {
  "colab": {
   "authorship_tag": "ABX9TyPmoCCbnH0TMr4xrJ9LQQEw",
   "name": "Untitled1.ipynb",
   "provenance": []
  },
  "kernelspec": {
   "display_name": "Python 3",
   "language": "python",
   "name": "python3"
  },
  "language_info": {
   "codemirror_mode": {
    "name": "ipython",
    "version": 3
   },
   "file_extension": ".py",
   "mimetype": "text/x-python",
   "name": "python",
   "nbconvert_exporter": "python",
   "pygments_lexer": "ipython3",
   "version": "3.8.3"
  }
 },
 "nbformat": 4,
 "nbformat_minor": 1
}
