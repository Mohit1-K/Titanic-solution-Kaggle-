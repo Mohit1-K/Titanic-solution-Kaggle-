{
 "cells": [
  {
   "cell_type": "code",
   "execution_count": 1,
   "metadata": {
    "execution": {
     "iopub.execute_input": "2020-10-25T14:46:09.419104Z",
     "iopub.status.busy": "2020-10-25T14:46:09.418161Z",
     "iopub.status.idle": "2020-10-25T14:46:09.421452Z",
     "shell.execute_reply": "2020-10-25T14:46:09.422284Z"
    },
    "executionInfo": {
     "elapsed": 1689,
     "status": "ok",
     "timestamp": 1603337460020,
     "user": {
      "displayName": "Mohit Kumar",
      "photoUrl": "https://lh3.googleusercontent.com/a-/AOh14Gj8w3q63HFTUHmSvksuo2jqQuRy7MffzxIK9Ft9=s64",
      "userId": "10280412065584785973"
     },
     "user_tz": -330
    },
    "id": "rFe0Cefq4uZH",
    "papermill": {
     "duration": 0.05235,
     "end_time": "2020-10-25T14:46:09.422487",
     "exception": false,
     "start_time": "2020-10-25T14:46:09.370137",
     "status": "completed"
    },
    "tags": []
   },
   "outputs": [],
   "source": [
    "import pandas as pd\n",
    "import numpy as np"
   ]
  },
  {
   "cell_type": "code",
   "execution_count": 2,
   "metadata": {
    "execution": {
     "iopub.execute_input": "2020-10-25T14:46:09.503708Z",
     "iopub.status.busy": "2020-10-25T14:46:09.502777Z",
     "iopub.status.idle": "2020-10-25T14:46:09.552273Z",
     "shell.execute_reply": "2020-10-25T14:46:09.551441Z"
    },
    "executionInfo": {
     "elapsed": 1883,
     "status": "ok",
     "timestamp": 1603337462984,
     "user": {
      "displayName": "Mohit Kumar",
      "photoUrl": "https://lh3.googleusercontent.com/a-/AOh14Gj8w3q63HFTUHmSvksuo2jqQuRy7MffzxIK9Ft9=s64",
      "userId": "10280412065584785973"
     },
     "user_tz": -330
    },
    "id": "gznikY9m7bbH",
    "papermill": {
     "duration": 0.0937,
     "end_time": "2020-10-25T14:46:09.552406",
     "exception": false,
     "start_time": "2020-10-25T14:46:09.458706",
     "status": "completed"
    },
    "tags": []
   },
   "outputs": [],
   "source": [
    "train=pd.read_csv('../input/titanic/train.csv')\n",
    "test=pd.read_csv('../input/titanic/test.csv')"
   ]
  },
  {
   "cell_type": "code",
   "execution_count": 3,
   "metadata": {
    "execution": {
     "iopub.execute_input": "2020-10-25T14:46:09.647241Z",
     "iopub.status.busy": "2020-10-25T14:46:09.635889Z",
     "iopub.status.idle": "2020-10-25T14:46:09.663544Z",
     "shell.execute_reply": "2020-10-25T14:46:09.664349Z"
    },
    "executionInfo": {
     "elapsed": 1531,
     "status": "ok",
     "timestamp": 1603285636611,
     "user": {
      "displayName": "Mohit Kumar",
      "photoUrl": "https://lh3.googleusercontent.com/a-/AOh14Gj8w3q63HFTUHmSvksuo2jqQuRy7MffzxIK9Ft9=s64",
      "userId": "10280412065584785973"
     },
     "user_tz": -330
    },
    "id": "O8Tmvd1X9zj4",
    "outputId": "593c6ed3-b3c7-4fa2-fe91-401353722bec",
    "papermill": {
     "duration": 0.075037,
     "end_time": "2020-10-25T14:46:09.664537",
     "exception": false,
     "start_time": "2020-10-25T14:46:09.589500",
     "status": "completed"
    },
    "tags": []
   },
   "outputs": [
    {
     "data": {
      "text/html": [
       "<div>\n",
       "<style scoped>\n",
       "    .dataframe tbody tr th:only-of-type {\n",
       "        vertical-align: middle;\n",
       "    }\n",
       "\n",
       "    .dataframe tbody tr th {\n",
       "        vertical-align: top;\n",
       "    }\n",
       "\n",
       "    .dataframe thead th {\n",
       "        text-align: right;\n",
       "    }\n",
       "</style>\n",
       "<table border=\"1\" class=\"dataframe\">\n",
       "  <thead>\n",
       "    <tr style=\"text-align: right;\">\n",
       "      <th></th>\n",
       "      <th>PassengerId</th>\n",
       "      <th>Survived</th>\n",
       "      <th>Pclass</th>\n",
       "      <th>Name</th>\n",
       "      <th>Sex</th>\n",
       "      <th>Age</th>\n",
       "      <th>SibSp</th>\n",
       "      <th>Parch</th>\n",
       "      <th>Ticket</th>\n",
       "      <th>Fare</th>\n",
       "      <th>Cabin</th>\n",
       "      <th>Embarked</th>\n",
       "    </tr>\n",
       "  </thead>\n",
       "  <tbody>\n",
       "    <tr>\n",
       "      <th>0</th>\n",
       "      <td>1</td>\n",
       "      <td>0</td>\n",
       "      <td>3</td>\n",
       "      <td>Braund, Mr. Owen Harris</td>\n",
       "      <td>male</td>\n",
       "      <td>22.0</td>\n",
       "      <td>1</td>\n",
       "      <td>0</td>\n",
       "      <td>A/5 21171</td>\n",
       "      <td>7.2500</td>\n",
       "      <td>NaN</td>\n",
       "      <td>S</td>\n",
       "    </tr>\n",
       "    <tr>\n",
       "      <th>1</th>\n",
       "      <td>2</td>\n",
       "      <td>1</td>\n",
       "      <td>1</td>\n",
       "      <td>Cumings, Mrs. John Bradley (Florence Briggs Th...</td>\n",
       "      <td>female</td>\n",
       "      <td>38.0</td>\n",
       "      <td>1</td>\n",
       "      <td>0</td>\n",
       "      <td>PC 17599</td>\n",
       "      <td>71.2833</td>\n",
       "      <td>C85</td>\n",
       "      <td>C</td>\n",
       "    </tr>\n",
       "    <tr>\n",
       "      <th>2</th>\n",
       "      <td>3</td>\n",
       "      <td>1</td>\n",
       "      <td>3</td>\n",
       "      <td>Heikkinen, Miss. Laina</td>\n",
       "      <td>female</td>\n",
       "      <td>26.0</td>\n",
       "      <td>0</td>\n",
       "      <td>0</td>\n",
       "      <td>STON/O2. 3101282</td>\n",
       "      <td>7.9250</td>\n",
       "      <td>NaN</td>\n",
       "      <td>S</td>\n",
       "    </tr>\n",
       "    <tr>\n",
       "      <th>3</th>\n",
       "      <td>4</td>\n",
       "      <td>1</td>\n",
       "      <td>1</td>\n",
       "      <td>Futrelle, Mrs. Jacques Heath (Lily May Peel)</td>\n",
       "      <td>female</td>\n",
       "      <td>35.0</td>\n",
       "      <td>1</td>\n",
       "      <td>0</td>\n",
       "      <td>113803</td>\n",
       "      <td>53.1000</td>\n",
       "      <td>C123</td>\n",
       "      <td>S</td>\n",
       "    </tr>\n",
       "    <tr>\n",
       "      <th>4</th>\n",
       "      <td>5</td>\n",
       "      <td>0</td>\n",
       "      <td>3</td>\n",
       "      <td>Allen, Mr. William Henry</td>\n",
       "      <td>male</td>\n",
       "      <td>35.0</td>\n",
       "      <td>0</td>\n",
       "      <td>0</td>\n",
       "      <td>373450</td>\n",
       "      <td>8.0500</td>\n",
       "      <td>NaN</td>\n",
       "      <td>S</td>\n",
       "    </tr>\n",
       "  </tbody>\n",
       "</table>\n",
       "</div>"
      ],
      "text/plain": [
       "   PassengerId  Survived  Pclass  \\\n",
       "0            1         0       3   \n",
       "1            2         1       1   \n",
       "2            3         1       3   \n",
       "3            4         1       1   \n",
       "4            5         0       3   \n",
       "\n",
       "                                                Name     Sex   Age  SibSp  \\\n",
       "0                            Braund, Mr. Owen Harris    male  22.0      1   \n",
       "1  Cumings, Mrs. John Bradley (Florence Briggs Th...  female  38.0      1   \n",
       "2                             Heikkinen, Miss. Laina  female  26.0      0   \n",
       "3       Futrelle, Mrs. Jacques Heath (Lily May Peel)  female  35.0      1   \n",
       "4                           Allen, Mr. William Henry    male  35.0      0   \n",
       "\n",
       "   Parch            Ticket     Fare Cabin Embarked  \n",
       "0      0         A/5 21171   7.2500   NaN        S  \n",
       "1      0          PC 17599  71.2833   C85        C  \n",
       "2      0  STON/O2. 3101282   7.9250   NaN        S  \n",
       "3      0            113803  53.1000  C123        S  \n",
       "4      0            373450   8.0500   NaN        S  "
      ]
     },
     "execution_count": 3,
     "metadata": {},
     "output_type": "execute_result"
    }
   ],
   "source": [
    "train.head(5)"
   ]
  },
  {
   "cell_type": "code",
   "execution_count": 4,
   "metadata": {
    "execution": {
     "iopub.execute_input": "2020-10-25T14:46:09.746379Z",
     "iopub.status.busy": "2020-10-25T14:46:09.745154Z",
     "iopub.status.idle": "2020-10-25T14:46:09.749425Z",
     "shell.execute_reply": "2020-10-25T14:46:09.750174Z"
    },
    "executionInfo": {
     "elapsed": 1375,
     "status": "ok",
     "timestamp": 1603285640599,
     "user": {
      "displayName": "Mohit Kumar",
      "photoUrl": "https://lh3.googleusercontent.com/a-/AOh14Gj8w3q63HFTUHmSvksuo2jqQuRy7MffzxIK9Ft9=s64",
      "userId": "10280412065584785973"
     },
     "user_tz": -330
    },
    "id": "tcQODM2s73qA",
    "outputId": "ac1715b3-e5be-42e5-e5fd-7ea80d303e52",
    "papermill": {
     "duration": 0.050115,
     "end_time": "2020-10-25T14:46:09.750341",
     "exception": false,
     "start_time": "2020-10-25T14:46:09.700226",
     "status": "completed"
    },
    "tags": []
   },
   "outputs": [
    {
     "data": {
      "text/plain": [
       "PassengerId      0\n",
       "Survived         0\n",
       "Pclass           0\n",
       "Name             0\n",
       "Sex              0\n",
       "Age            177\n",
       "SibSp            0\n",
       "Parch            0\n",
       "Ticket           0\n",
       "Fare             0\n",
       "Cabin          687\n",
       "Embarked         2\n",
       "dtype: int64"
      ]
     },
     "execution_count": 4,
     "metadata": {},
     "output_type": "execute_result"
    }
   ],
   "source": [
    "train.isnull().sum()"
   ]
  },
  {
   "cell_type": "code",
   "execution_count": 5,
   "metadata": {
    "execution": {
     "iopub.execute_input": "2020-10-25T14:46:09.836145Z",
     "iopub.status.busy": "2020-10-25T14:46:09.835090Z",
     "iopub.status.idle": "2020-10-25T14:46:09.841078Z",
     "shell.execute_reply": "2020-10-25T14:46:09.840172Z"
    },
    "executionInfo": {
     "elapsed": 1673,
     "status": "ok",
     "timestamp": 1603285644097,
     "user": {
      "displayName": "Mohit Kumar",
      "photoUrl": "https://lh3.googleusercontent.com/a-/AOh14Gj8w3q63HFTUHmSvksuo2jqQuRy7MffzxIK9Ft9=s64",
      "userId": "10280412065584785973"
     },
     "user_tz": -330
    },
    "id": "RB_Q6-tt9E1N",
    "outputId": "d091b384-c272-4830-b669-71c71c9fe79b",
    "papermill": {
     "duration": 0.053294,
     "end_time": "2020-10-25T14:46:09.841256",
     "exception": false,
     "start_time": "2020-10-25T14:46:09.787962",
     "status": "completed"
    },
    "tags": []
   },
   "outputs": [
    {
     "data": {
      "text/plain": [
       "PassengerId      0\n",
       "Pclass           0\n",
       "Name             0\n",
       "Sex              0\n",
       "Age             86\n",
       "SibSp            0\n",
       "Parch            0\n",
       "Ticket           0\n",
       "Fare             1\n",
       "Cabin          327\n",
       "Embarked         0\n",
       "dtype: int64"
      ]
     },
     "execution_count": 5,
     "metadata": {},
     "output_type": "execute_result"
    }
   ],
   "source": [
    "test.isnull().sum()"
   ]
  },
  {
   "cell_type": "code",
   "execution_count": 6,
   "metadata": {
    "execution": {
     "iopub.execute_input": "2020-10-25T14:46:09.930750Z",
     "iopub.status.busy": "2020-10-25T14:46:09.929627Z",
     "iopub.status.idle": "2020-10-25T14:46:11.123788Z",
     "shell.execute_reply": "2020-10-25T14:46:11.124604Z"
    },
    "executionInfo": {
     "elapsed": 1732,
     "status": "ok",
     "timestamp": 1603337471956,
     "user": {
      "displayName": "Mohit Kumar",
      "photoUrl": "https://lh3.googleusercontent.com/a-/AOh14Gj8w3q63HFTUHmSvksuo2jqQuRy7MffzxIK9Ft9=s64",
      "userId": "10280412065584785973"
     },
     "user_tz": -330
    },
    "id": "M6ZI5YBJ9nRU",
    "papermill": {
     "duration": 1.243227,
     "end_time": "2020-10-25T14:46:11.124800",
     "exception": false,
     "start_time": "2020-10-25T14:46:09.881573",
     "status": "completed"
    },
    "tags": []
   },
   "outputs": [],
   "source": [
    "import matplotlib.pyplot as plt\n",
    "%matplotlib inline\n",
    "import seaborn as sns\n",
    "sns.set()"
   ]
  },
  {
   "cell_type": "code",
   "execution_count": 7,
   "metadata": {
    "execution": {
     "iopub.execute_input": "2020-10-25T14:46:11.215526Z",
     "iopub.status.busy": "2020-10-25T14:46:11.214662Z",
     "iopub.status.idle": "2020-10-25T14:46:11.218906Z",
     "shell.execute_reply": "2020-10-25T14:46:11.218100Z"
    },
    "executionInfo": {
     "elapsed": 1507,
     "status": "ok",
     "timestamp": 1603337476828,
     "user": {
      "displayName": "Mohit Kumar",
      "photoUrl": "https://lh3.googleusercontent.com/a-/AOh14Gj8w3q63HFTUHmSvksuo2jqQuRy7MffzxIK9Ft9=s64",
      "userId": "10280412065584785973"
     },
     "user_tz": -330
    },
    "id": "t8WjGkzB9w9n",
    "papermill": {
     "duration": 0.054253,
     "end_time": "2020-10-25T14:46:11.219037",
     "exception": false,
     "start_time": "2020-10-25T14:46:11.164784",
     "status": "completed"
    },
    "tags": []
   },
   "outputs": [],
   "source": [
    "def bar_plot(feature):\n",
    "    survived=train[train['Survived']==1][feature].value_counts()\n",
    "    dead= train[train['Survived']==0][feature].value_counts()\n",
    "    data=pd.DataFrame([survived,dead])\n",
    "    data.index=['Survived','Dead']\n",
    "    data.plot(kind='bar',figsize=(10,5))"
   ]
  },
  {
   "cell_type": "code",
   "execution_count": 8,
   "metadata": {
    "execution": {
     "iopub.execute_input": "2020-10-25T14:46:11.299801Z",
     "iopub.status.busy": "2020-10-25T14:46:11.298288Z",
     "iopub.status.idle": "2020-10-25T14:46:11.621223Z",
     "shell.execute_reply": "2020-10-25T14:46:11.620497Z"
    },
    "executionInfo": {
     "elapsed": 1426,
     "status": "ok",
     "timestamp": 1603285654668,
     "user": {
      "displayName": "Mohit Kumar",
      "photoUrl": "https://lh3.googleusercontent.com/a-/AOh14Gj8w3q63HFTUHmSvksuo2jqQuRy7MffzxIK9Ft9=s64",
      "userId": "10280412065584785973"
     },
     "user_tz": -330
    },
    "id": "HZsDcJTJAc6Z",
    "outputId": "87dcd536-c02e-44ae-86f9-30a8baf6708c",
    "papermill": {
     "duration": 0.366011,
     "end_time": "2020-10-25T14:46:11.621370",
     "exception": false,
     "start_time": "2020-10-25T14:46:11.255359",
     "status": "completed"
    },
    "tags": []
   },
   "outputs": [
    {
     "data": {
      "image/png": "[encoded data removed]",
      "text/plain": [
       "<Figure size 720x360 with 1 Axes>"
      ]
     },
     "metadata": {},
     "output_type": "display_data"
    }
   ],
   "source": [
    "bar_plot('Sex')"
   ]
  },
  {
   "cell_type": "code",
   "execution_count": 9,
   "metadata": {
    "execution": {
     "iopub.execute_input": "2020-10-25T14:46:11.712428Z",
     "iopub.status.busy": "2020-10-25T14:46:11.711560Z",
     "iopub.status.idle": "2020-10-25T14:46:11.947083Z",
     "shell.execute_reply": "2020-10-25T14:46:11.946289Z"
    },
    "executionInfo": {
     "elapsed": 1378,
     "status": "ok",
     "timestamp": 1603285657852,
     "user": {
      "displayName": "Mohit Kumar",
      "photoUrl": "https://lh3.googleusercontent.com/a-/AOh14Gj8w3q63HFTUHmSvksuo2jqQuRy7MffzxIK9Ft9=s64",
      "userId": "10280412065584785973"
     },
     "user_tz": -330
    },
    "id": "QNa0zrJhBOtr",
    "outputId": "b318a964-fd0f-4c68-c6d6-4f9d44b08109",
    "papermill": {
     "duration": 0.284651,
     "end_time": "2020-10-25T14:46:11.947213",
     "exception": false,
     "start_time": "2020-10-25T14:46:11.662562",
     "status": "completed"
    },
    "tags": []
   },
   "outputs": [
    {
     "data": {
      "image/png": "[encoded data removed]",
      "text/plain": [
       "<Figure size 720x360 with 1 Axes>"
      ]
     },
     "metadata": {},
     "output_type": "display_data"
    }
   ],
   "source": [
    "bar_plot('Pclass')"
   ]
  },
  {
   "cell_type": "code",
   "execution_count": 10,
   "metadata": {
    "execution": {
     "iopub.execute_input": "2020-10-25T14:46:12.064739Z",
     "iopub.status.busy": "2020-10-25T14:46:12.042757Z",
     "iopub.status.idle": "2020-10-25T14:46:12.353732Z",
     "shell.execute_reply": "2020-10-25T14:46:12.352922Z"
    },
    "executionInfo": {
     "elapsed": 1410,
     "status": "ok",
     "timestamp": 1603266733579,
     "user": {
      "displayName": "Mohit Kumar",
      "photoUrl": "https://lh3.googleusercontent.com/a-/AOh14Gj8w3q63HFTUHmSvksuo2jqQuRy7MffzxIK9Ft9=s64",
      "userId": "10280412065584785973"
     },
     "user_tz": -330
    },
    "id": "I5Ter2oiBhOX",
    "outputId": "17e52a60-8c41-47a6-f3db-34aa5eb80106",
    "papermill": {
     "duration": 0.365659,
     "end_time": "2020-10-25T14:46:12.353884",
     "exception": false,
     "start_time": "2020-10-25T14:46:11.988225",
     "status": "completed"
    },
    "tags": []
   },
   "outputs": [
    {
     "data": {
      "image/png": "[encoded data removed]",
      "text/plain": [
       "<Figure size 720x360 with 1 Axes>"
      ]
     },
     "metadata": {},
     "output_type": "display_data"
    }
   ],
   "source": [
    " bar_plot('Parch')"
   ]
  },
  {
   "cell_type": "code",
   "execution_count": 11,
   "metadata": {
    "execution": {
     "iopub.execute_input": "2020-10-25T14:46:12.460534Z",
     "iopub.status.busy": "2020-10-25T14:46:12.448146Z",
     "iopub.status.idle": "2020-10-25T14:46:12.693129Z",
     "shell.execute_reply": "2020-10-25T14:46:12.692356Z"
    },
    "executionInfo": {
     "elapsed": 1193,
     "status": "ok",
     "timestamp": 1603266736483,
     "user": {
      "displayName": "Mohit Kumar",
      "photoUrl": "https://lh3.googleusercontent.com/a-/AOh14Gj8w3q63HFTUHmSvksuo2jqQuRy7MffzxIK9Ft9=s64",
      "userId": "10280412065584785973"
     },
     "user_tz": -330
    },
    "id": "0NqNfCdqB0NK",
    "outputId": "146d795e-0e27-47b1-f0ce-e1963073543f",
    "papermill": {
     "duration": 0.296889,
     "end_time": "2020-10-25T14:46:12.693260",
     "exception": false,
     "start_time": "2020-10-25T14:46:12.396371",
     "status": "completed"
    },
    "tags": []
   },
   "outputs": [
    {
     "data": {
      "image/png": "[encoded data removed]",
      "text/plain": [
       "<Figure size 720x360 with 1 Axes>"
      ]
     },
     "metadata": {},
     "output_type": "display_data"
    }
   ],
   "source": [
    " bar_plot('Embarked')"
   ]
  },
  {
   "cell_type": "code",
   "execution_count": 12,
   "metadata": {
    "execution": {
     "iopub.execute_input": "2020-10-25T14:46:12.788359Z",
     "iopub.status.busy": "2020-10-25T14:46:12.787253Z",
     "iopub.status.idle": "2020-10-25T14:46:12.791246Z",
     "shell.execute_reply": "2020-10-25T14:46:12.790385Z"
    },
    "executionInfo": {
     "elapsed": 1930,
     "status": "ok",
     "timestamp": 1603337482270,
     "user": {
      "displayName": "Mohit Kumar",
      "photoUrl": "https://lh3.googleusercontent.com/a-/AOh14Gj8w3q63HFTUHmSvksuo2jqQuRy7MffzxIK9Ft9=s64",
      "userId": "10280412065584785973"
     },
     "user_tz": -330
    },
    "id": "OHFXL4OWB4oH",
    "papermill": {
     "duration": 0.058801,
     "end_time": "2020-10-25T14:46:12.791395",
     "exception": false,
     "start_time": "2020-10-25T14:46:12.732594",
     "status": "completed"
    },
    "tags": []
   },
   "outputs": [],
   "source": [
    " combined=[train, test] # combining train and test dataset\n",
    " \n",
    "for dataset in combined:\n",
    "    dataset['Title'] = dataset['Name'].str.extract(' ([A-Za-z]+)\\.', expand=False)"
   ]
  },
  {
   "cell_type": "code",
   "execution_count": 13,
   "metadata": {
    "execution": {
     "iopub.execute_input": "2020-10-25T14:46:12.887859Z",
     "iopub.status.busy": "2020-10-25T14:46:12.886680Z",
     "iopub.status.idle": "2020-10-25T14:46:12.891608Z",
     "shell.execute_reply": "2020-10-25T14:46:12.890856Z"
    },
    "executionInfo": {
     "elapsed": 1664,
     "status": "ok",
     "timestamp": 1603337487306,
     "user": {
      "displayName": "Mohit Kumar",
      "photoUrl": "https://lh3.googleusercontent.com/a-/AOh14Gj8w3q63HFTUHmSvksuo2jqQuRy7MffzxIK9Ft9=s64",
      "userId": "10280412065584785973"
     },
     "user_tz": -330
    },
    "id": "UD4-d8t6Cvmc",
    "outputId": "cff193bb-dffa-4261-90ea-7da7f50f75db",
    "papermill": {
     "duration": 0.059324,
     "end_time": "2020-10-25T14:46:12.891732",
     "exception": false,
     "start_time": "2020-10-25T14:46:12.832408",
     "status": "completed"
    },
    "tags": []
   },
   "outputs": [
    {
     "data": {
      "text/plain": [
       "Mr          517\n",
       "Miss        182\n",
       "Mrs         125\n",
       "Master       40\n",
       "Dr            7\n",
       "Rev           6\n",
       "Col           2\n",
       "Mlle          2\n",
       "Major         2\n",
       "Ms            1\n",
       "Lady          1\n",
       "Countess      1\n",
       "Mme           1\n",
       "Jonkheer      1\n",
       "Don           1\n",
       "Capt          1\n",
       "Sir           1\n",
       "Name: Title, dtype: int64"
      ]
     },
     "execution_count": 13,
     "metadata": {},
     "output_type": "execute_result"
    }
   ],
   "source": [
    " train['Title'].value_counts()"
   ]
  },
  {
   "cell_type": "code",
   "execution_count": 14,
   "metadata": {
    "execution": {
     "iopub.execute_input": "2020-10-25T14:46:12.991558Z",
     "iopub.status.busy": "2020-10-25T14:46:12.990095Z",
     "iopub.status.idle": "2020-10-25T14:46:12.994730Z",
     "shell.execute_reply": "2020-10-25T14:46:12.994033Z"
    },
    "executionInfo": {
     "elapsed": 1888,
     "status": "ok",
     "timestamp": 1603337491563,
     "user": {
      "displayName": "Mohit Kumar",
      "photoUrl": "https://lh3.googleusercontent.com/a-/AOh14Gj8w3q63HFTUHmSvksuo2jqQuRy7MffzxIK9Ft9=s64",
      "userId": "10280412065584785973"
     },
     "user_tz": -330
    },
    "id": "di7IGZw-DO_A",
    "papermill": {
     "duration": 0.060204,
     "end_time": "2020-10-25T14:46:12.994894",
     "exception": false,
     "start_time": "2020-10-25T14:46:12.934690",
     "status": "completed"
    },
    "tags": []
   },
   "outputs": [],
   "source": [
    " title_mapping = {\"Mr\": 0, \"Miss\": 1, \"Mrs\": 2, \n",
    "                 \"Master\": 3, \"Dr\": 3, \"Rev\": 3, \"Col\": 3, \"Major\": 3, \"Mlle\": 3,\"Countess\": 3,\n",
    "                 \"Ms\": 3, \"Lady\": 3, \"Jonkheer\": 3, \"Don\": 3, \"Dona\" : 3, \"Mme\": 3,\"Capt\": 3,\"Sir\": 3 }\n",
    "for dataset in combined:\n",
    "    dataset['Title'] = dataset['Title'].map(title_mapping)"
   ]
  },
  {
   "cell_type": "code",
   "execution_count": 15,
   "metadata": {
    "execution": {
     "iopub.execute_input": "2020-10-25T14:46:13.098375Z",
     "iopub.status.busy": "2020-10-25T14:46:13.091931Z",
     "iopub.status.idle": "2020-10-25T14:46:13.424766Z",
     "shell.execute_reply": "2020-10-25T14:46:13.423681Z"
    },
    "executionInfo": {
     "elapsed": 1165,
     "status": "ok",
     "timestamp": 1603266785414,
     "user": {
      "displayName": "Mohit Kumar",
      "photoUrl": "https://lh3.googleusercontent.com/a-/AOh14Gj8w3q63HFTUHmSvksuo2jqQuRy7MffzxIK9Ft9=s64",
      "userId": "10280412065584785973"
     },
     "user_tz": -330
    },
    "id": "somScX94Ddip",
    "outputId": "70ed0ba0-5b21-4353-ae60-7592231b2376",
    "papermill": {
     "duration": 0.386179,
     "end_time": "2020-10-25T14:46:13.424929",
     "exception": false,
     "start_time": "2020-10-25T14:46:13.038750",
     "status": "completed"
    },
    "tags": []
   },
   "outputs": [
    {
     "data": {
      "image/png": "[encoded data removed]",
      "text/plain": [
       "<Figure size 720x360 with 1 Axes>"
      ]
     },
     "metadata": {},
     "output_type": "display_data"
    }
   ],
   "source": [
    "bar_plot('Title')"
   ]
  },
  {
   "cell_type": "code",
   "execution_count": 16,
   "metadata": {
    "execution": {
     "iopub.execute_input": "2020-10-25T14:46:13.531442Z",
     "iopub.status.busy": "2020-10-25T14:46:13.530433Z",
     "iopub.status.idle": "2020-10-25T14:46:13.535502Z",
     "shell.execute_reply": "2020-10-25T14:46:13.534672Z"
    },
    "executionInfo": {
     "elapsed": 1531,
     "status": "ok",
     "timestamp": 1603337496283,
     "user": {
      "displayName": "Mohit Kumar",
      "photoUrl": "https://lh3.googleusercontent.com/a-/AOh14Gj8w3q63HFTUHmSvksuo2jqQuRy7MffzxIK9Ft9=s64",
      "userId": "10280412065584785973"
     },
     "user_tz": -330
    },
    "id": "Zm9zqqUYDjxG",
    "papermill": {
     "duration": 0.064813,
     "end_time": "2020-10-25T14:46:13.535640",
     "exception": false,
     "start_time": "2020-10-25T14:46:13.470827",
     "status": "completed"
    },
    "tags": []
   },
   "outputs": [],
   "source": [
    " train.drop('Name', axis=1, inplace=True)\n",
    "test.drop('Name', axis=1, inplace=True)"
   ]
  },
  {
   "cell_type": "code",
   "execution_count": 17,
   "metadata": {
    "execution": {
     "iopub.execute_input": "2020-10-25T14:46:13.637910Z",
     "iopub.status.busy": "2020-10-25T14:46:13.636770Z",
     "iopub.status.idle": "2020-10-25T14:46:13.640551Z",
     "shell.execute_reply": "2020-10-25T14:46:13.639889Z"
    },
    "executionInfo": {
     "elapsed": 1728,
     "status": "ok",
     "timestamp": 1603337499314,
     "user": {
      "displayName": "Mohit Kumar",
      "photoUrl": "https://lh3.googleusercontent.com/a-/AOh14Gj8w3q63HFTUHmSvksuo2jqQuRy7MffzxIK9Ft9=s64",
      "userId": "10280412065584785973"
     },
     "user_tz": -330
    },
    "id": "8T0HMoLdDrzC",
    "papermill": {
     "duration": 0.0596,
     "end_time": "2020-10-25T14:46:13.640697",
     "exception": false,
     "start_time": "2020-10-25T14:46:13.581097",
     "status": "completed"
    },
    "tags": []
   },
   "outputs": [],
   "source": [
    " sex_mapping = {\"male\": 0, \"female\": 1}\n",
    "for dataset in combined:\n",
    "    dataset['Sex'] = dataset['Sex'].map(sex_mapping)"
   ]
  },
  {
   "cell_type": "code",
   "execution_count": 18,
   "metadata": {
    "execution": {
     "iopub.execute_input": "2020-10-25T14:46:13.742674Z",
     "iopub.status.busy": "2020-10-25T14:46:13.741811Z",
     "iopub.status.idle": "2020-10-25T14:46:13.750508Z",
     "shell.execute_reply": "2020-10-25T14:46:13.749665Z"
    },
    "executionInfo": {
     "elapsed": 1671,
     "status": "ok",
     "timestamp": 1603337505211,
     "user": {
      "displayName": "Mohit Kumar",
      "photoUrl": "https://lh3.googleusercontent.com/a-/AOh14Gj8w3q63HFTUHmSvksuo2jqQuRy7MffzxIK9Ft9=s64",
      "userId": "10280412065584785973"
     },
     "user_tz": -330
    },
    "id": "KyDXV4dlEB8y",
    "papermill": {
     "duration": 0.064381,
     "end_time": "2020-10-25T14:46:13.750645",
     "exception": false,
     "start_time": "2020-10-25T14:46:13.686264",
     "status": "completed"
    },
    "tags": []
   },
   "outputs": [],
   "source": [
    " train[\"Age\"].fillna(train.groupby(\"Title\")[\"Age\"].transform(\"median\"), inplace=True)\n",
    "test[\"Age\"].fillna(test.groupby(\"Title\")[\"Age\"].transform(\"median\"), inplace=True)"
   ]
  },
  {
   "cell_type": "code",
   "execution_count": 19,
   "metadata": {
    "execution": {
     "iopub.execute_input": "2020-10-25T14:46:13.865630Z",
     "iopub.status.busy": "2020-10-25T14:46:13.864705Z",
     "iopub.status.idle": "2020-10-25T14:46:13.870944Z",
     "shell.execute_reply": "2020-10-25T14:46:13.870110Z"
    },
    "executionInfo": {
     "elapsed": 1575,
     "status": "ok",
     "timestamp": 1603299639005,
     "user": {
      "displayName": "Mohit Kumar",
      "photoUrl": "https://lh3.googleusercontent.com/a-/AOh14Gj8w3q63HFTUHmSvksuo2jqQuRy7MffzxIK9Ft9=s64",
      "userId": "10280412065584785973"
     },
     "user_tz": -330
    },
    "id": "JbucSKIpEWmF",
    "outputId": "3aac7265-54d2-4129-cadd-08485449b262",
    "papermill": {
     "duration": 0.072776,
     "end_time": "2020-10-25T14:46:13.871135",
     "exception": false,
     "start_time": "2020-10-25T14:46:13.798359",
     "status": "completed"
    },
    "tags": []
   },
   "outputs": [
    {
     "data": {
      "text/html": [
       "<div>\n",
       "<style scoped>\n",
       "    .dataframe tbody tr th:only-of-type {\n",
       "        vertical-align: middle;\n",
       "    }\n",
       "\n",
       "    .dataframe tbody tr th {\n",
       "        vertical-align: top;\n",
       "    }\n",
       "\n",
       "    .dataframe thead th {\n",
       "        text-align: right;\n",
       "    }\n",
       "</style>\n",
       "<table border=\"1\" class=\"dataframe\">\n",
       "  <thead>\n",
       "    <tr style=\"text-align: right;\">\n",
       "      <th></th>\n",
       "      <th>PassengerId</th>\n",
       "      <th>Survived</th>\n",
       "      <th>Pclass</th>\n",
       "      <th>Sex</th>\n",
       "      <th>Age</th>\n",
       "      <th>SibSp</th>\n",
       "      <th>Parch</th>\n",
       "      <th>Ticket</th>\n",
       "      <th>Fare</th>\n",
       "      <th>Cabin</th>\n",
       "      <th>Embarked</th>\n",
       "      <th>Title</th>\n",
       "    </tr>\n",
       "  </thead>\n",
       "  <tbody>\n",
       "    <tr>\n",
       "      <th>0</th>\n",
       "      <td>1</td>\n",
       "      <td>0</td>\n",
       "      <td>3</td>\n",
       "      <td>0</td>\n",
       "      <td>22.0</td>\n",
       "      <td>1</td>\n",
       "      <td>0</td>\n",
       "      <td>A/5 21171</td>\n",
       "      <td>7.2500</td>\n",
       "      <td>NaN</td>\n",
       "      <td>S</td>\n",
       "      <td>0</td>\n",
       "    </tr>\n",
       "    <tr>\n",
       "      <th>1</th>\n",
       "      <td>2</td>\n",
       "      <td>1</td>\n",
       "      <td>1</td>\n",
       "      <td>1</td>\n",
       "      <td>38.0</td>\n",
       "      <td>1</td>\n",
       "      <td>0</td>\n",
       "      <td>PC 17599</td>\n",
       "      <td>71.2833</td>\n",
       "      <td>C85</td>\n",
       "      <td>C</td>\n",
       "      <td>2</td>\n",
       "    </tr>\n",
       "    <tr>\n",
       "      <th>2</th>\n",
       "      <td>3</td>\n",
       "      <td>1</td>\n",
       "      <td>3</td>\n",
       "      <td>1</td>\n",
       "      <td>26.0</td>\n",
       "      <td>0</td>\n",
       "      <td>0</td>\n",
       "      <td>STON/O2. 3101282</td>\n",
       "      <td>7.9250</td>\n",
       "      <td>NaN</td>\n",
       "      <td>S</td>\n",
       "      <td>1</td>\n",
       "    </tr>\n",
       "    <tr>\n",
       "      <th>3</th>\n",
       "      <td>4</td>\n",
       "      <td>1</td>\n",
       "      <td>1</td>\n",
       "      <td>1</td>\n",
       "      <td>35.0</td>\n",
       "      <td>1</td>\n",
       "      <td>0</td>\n",
       "      <td>113803</td>\n",
       "      <td>53.1000</td>\n",
       "      <td>C123</td>\n",
       "      <td>S</td>\n",
       "      <td>2</td>\n",
       "    </tr>\n",
       "    <tr>\n",
       "      <th>4</th>\n",
       "      <td>5</td>\n",
       "      <td>0</td>\n",
       "      <td>3</td>\n",
       "      <td>0</td>\n",
       "      <td>35.0</td>\n",
       "      <td>0</td>\n",
       "      <td>0</td>\n",
       "      <td>373450</td>\n",
       "      <td>8.0500</td>\n",
       "      <td>NaN</td>\n",
       "      <td>S</td>\n",
       "      <td>0</td>\n",
       "    </tr>\n",
       "  </tbody>\n",
       "</table>\n",
       "</div>"
      ],
      "text/plain": [
       "   PassengerId  Survived  Pclass  Sex   Age  SibSp  Parch            Ticket  \\\n",
       "0            1         0       3    0  22.0      1      0         A/5 21171   \n",
       "1            2         1       1    1  38.0      1      0          PC 17599   \n",
       "2            3         1       3    1  26.0      0      0  STON/O2. 3101282   \n",
       "3            4         1       1    1  35.0      1      0            113803   \n",
       "4            5         0       3    0  35.0      0      0            373450   \n",
       "\n",
       "      Fare Cabin Embarked  Title  \n",
       "0   7.2500   NaN        S      0  \n",
       "1  71.2833   C85        C      2  \n",
       "2   7.9250   NaN        S      1  \n",
       "3  53.1000  C123        S      2  \n",
       "4   8.0500   NaN        S      0  "
      ]
     },
     "execution_count": 19,
     "metadata": {},
     "output_type": "execute_result"
    }
   ],
   "source": [
    "train.head()"
   ]
  },
  {
   "cell_type": "code",
   "execution_count": 20,
   "metadata": {
    "execution": {
     "iopub.execute_input": "2020-10-25T14:46:13.970542Z",
     "iopub.status.busy": "2020-10-25T14:46:13.969316Z",
     "iopub.status.idle": "2020-10-25T14:46:13.973247Z",
     "shell.execute_reply": "2020-10-25T14:46:13.972429Z"
    },
    "executionInfo": {
     "elapsed": 1447,
     "status": "ok",
     "timestamp": 1603337509117,
     "user": {
      "displayName": "Mohit Kumar",
      "photoUrl": "https://lh3.googleusercontent.com/a-/AOh14Gj8w3q63HFTUHmSvksuo2jqQuRy7MffzxIK9Ft9=s64",
      "userId": "10280412065584785973"
     },
     "user_tz": -330
    },
    "id": "14lIvkx3FRZ2",
    "papermill": {
     "duration": 0.054917,
     "end_time": "2020-10-25T14:46:13.973383",
     "exception": false,
     "start_time": "2020-10-25T14:46:13.918466",
     "status": "completed"
    },
    "tags": []
   },
   "outputs": [],
   "source": [
    " for dataset in combined:\n",
    "    dataset['Embarked'] = dataset['Embarked'].fillna('S')"
   ]
  },
  {
   "cell_type": "code",
   "execution_count": 21,
   "metadata": {
    "execution": {
     "iopub.execute_input": "2020-10-25T14:46:14.080226Z",
     "iopub.status.busy": "2020-10-25T14:46:14.079104Z",
     "iopub.status.idle": "2020-10-25T14:46:14.083349Z",
     "shell.execute_reply": "2020-10-25T14:46:14.082577Z"
    },
    "executionInfo": {
     "elapsed": 1048,
     "status": "ok",
     "timestamp": 1603337510946,
     "user": {
      "displayName": "Mohit Kumar",
      "photoUrl": "https://lh3.googleusercontent.com/a-/AOh14Gj8w3q63HFTUHmSvksuo2jqQuRy7MffzxIK9Ft9=s64",
      "userId": "10280412065584785973"
     },
     "user_tz": -330
    },
    "id": "jCms8m_hFbcM",
    "papermill": {
     "duration": 0.060953,
     "end_time": "2020-10-25T14:46:14.083480",
     "exception": false,
     "start_time": "2020-10-25T14:46:14.022527",
     "status": "completed"
    },
    "tags": []
   },
   "outputs": [],
   "source": [
    " embarked_mapping = {\"S\": 0, \"C\": 1, \"Q\": 2}\n",
    "for dataset in combined:\n",
    "    dataset['Embarked'] = dataset['Embarked'].map(embarked_mapping)"
   ]
  },
  {
   "cell_type": "code",
   "execution_count": 22,
   "metadata": {
    "execution": {
     "iopub.execute_input": "2020-10-25T14:46:14.189103Z",
     "iopub.status.busy": "2020-10-25T14:46:14.186234Z",
     "iopub.status.idle": "2020-10-25T14:46:14.194851Z",
     "shell.execute_reply": "2020-10-25T14:46:14.195513Z"
    },
    "executionInfo": {
     "elapsed": 970,
     "status": "ok",
     "timestamp": 1603337513004,
     "user": {
      "displayName": "Mohit Kumar",
      "photoUrl": "https://lh3.googleusercontent.com/a-/AOh14Gj8w3q63HFTUHmSvksuo2jqQuRy7MffzxIK9Ft9=s64",
      "userId": "10280412065584785973"
     },
     "user_tz": -330
    },
    "id": "b6WXswSYFq1L",
    "papermill": {
     "duration": 0.062151,
     "end_time": "2020-10-25T14:46:14.195711",
     "exception": false,
     "start_time": "2020-10-25T14:46:14.133560",
     "status": "completed"
    },
    "tags": []
   },
   "outputs": [],
   "source": [
    "train[\"Fare\"].fillna(train.groupby(\"Pclass\")[\"Fare\"].transform(\"median\"), inplace=True)\n",
    "test[\"Fare\"].fillna(test.groupby(\"Pclass\")[\"Fare\"].transform(\"median\"), inplace=True)"
   ]
  },
  {
   "cell_type": "code",
   "execution_count": 23,
   "metadata": {
    "execution": {
     "iopub.execute_input": "2020-10-25T14:46:14.307104Z",
     "iopub.status.busy": "2020-10-25T14:46:14.305729Z",
     "iopub.status.idle": "2020-10-25T14:46:14.312139Z",
     "shell.execute_reply": "2020-10-25T14:46:14.311423Z"
    },
    "executionInfo": {
     "elapsed": 895,
     "status": "ok",
     "timestamp": 1603337515211,
     "user": {
      "displayName": "Mohit Kumar",
      "photoUrl": "https://lh3.googleusercontent.com/a-/AOh14Gj8w3q63HFTUHmSvksuo2jqQuRy7MffzxIK9Ft9=s64",
      "userId": "10280412065584785973"
     },
     "user_tz": -330
    },
    "id": "Kd6kdNGDGHTm",
    "papermill": {
     "duration": 0.062261,
     "end_time": "2020-10-25T14:46:14.312288",
     "exception": false,
     "start_time": "2020-10-25T14:46:14.250027",
     "status": "completed"
    },
    "tags": []
   },
   "outputs": [],
   "source": [
    "dataset.loc[ dataset['Fare'] <= 17, 'Fare'] = 0"
   ]
  },
  {
   "cell_type": "code",
   "execution_count": 24,
   "metadata": {
    "execution": {
     "iopub.execute_input": "2020-10-25T14:46:14.428504Z",
     "iopub.status.busy": "2020-10-25T14:46:14.427319Z",
     "iopub.status.idle": "2020-10-25T14:46:14.432903Z",
     "shell.execute_reply": "2020-10-25T14:46:14.431920Z"
    },
    "executionInfo": {
     "elapsed": 929,
     "status": "ok",
     "timestamp": 1603337517094,
     "user": {
      "displayName": "Mohit Kumar",
      "photoUrl": "https://lh3.googleusercontent.com/a-/AOh14Gj8w3q63HFTUHmSvksuo2jqQuRy7MffzxIK9Ft9=s64",
      "userId": "10280412065584785973"
     },
     "user_tz": -330
    },
    "id": "q449jMB9H0Xg",
    "papermill": {
     "duration": 0.066873,
     "end_time": "2020-10-25T14:46:14.433104",
     "exception": false,
     "start_time": "2020-10-25T14:46:14.366231",
     "status": "completed"
    },
    "tags": []
   },
   "outputs": [],
   "source": [
    "dataset.loc[(dataset['Fare'] > 17) & (dataset['Fare'] <= 30), 'Fare'] = 1"
   ]
  },
  {
   "cell_type": "code",
   "execution_count": 25,
   "metadata": {
    "execution": {
     "iopub.execute_input": "2020-10-25T14:46:14.540106Z",
     "iopub.status.busy": "2020-10-25T14:46:14.538986Z",
     "iopub.status.idle": "2020-10-25T14:46:14.542025Z",
     "shell.execute_reply": "2020-10-25T14:46:14.541335Z"
    },
    "executionInfo": {
     "elapsed": 1618,
     "status": "ok",
     "timestamp": 1603337520846,
     "user": {
      "displayName": "Mohit Kumar",
      "photoUrl": "https://lh3.googleusercontent.com/a-/AOh14Gj8w3q63HFTUHmSvksuo2jqQuRy7MffzxIK9Ft9=s64",
      "userId": "10280412065584785973"
     },
     "user_tz": -330
    },
    "id": "QqY11zBFIYqV",
    "papermill": {
     "duration": 0.063734,
     "end_time": "2020-10-25T14:46:14.542181",
     "exception": false,
     "start_time": "2020-10-25T14:46:14.478447",
     "status": "completed"
    },
    "tags": []
   },
   "outputs": [],
   "source": [
    " dataset.loc[(dataset['Fare'] > 30) & (dataset['Fare'] <= 100), 'Fare'] = 2"
   ]
  },
  {
   "cell_type": "code",
   "execution_count": 26,
   "metadata": {
    "execution": {
     "iopub.execute_input": "2020-10-25T14:46:14.647473Z",
     "iopub.status.busy": "2020-10-25T14:46:14.646469Z",
     "iopub.status.idle": "2020-10-25T14:46:14.649647Z",
     "shell.execute_reply": "2020-10-25T14:46:14.648846Z"
    },
    "executionInfo": {
     "elapsed": 1618,
     "status": "ok",
     "timestamp": 1603337523568,
     "user": {
      "displayName": "Mohit Kumar",
      "photoUrl": "https://lh3.googleusercontent.com/a-/AOh14Gj8w3q63HFTUHmSvksuo2jqQuRy7MffzxIK9Ft9=s64",
      "userId": "10280412065584785973"
     },
     "user_tz": -330
    },
    "id": "Xx6UMh7KIgOf",
    "papermill": {
     "duration": 0.057866,
     "end_time": "2020-10-25T14:46:14.649780",
     "exception": false,
     "start_time": "2020-10-25T14:46:14.591914",
     "status": "completed"
    },
    "tags": []
   },
   "outputs": [],
   "source": [
    " dataset.loc[ dataset['Fare'] > 100, 'Fare'] = 3"
   ]
  },
  {
   "cell_type": "code",
   "execution_count": 27,
   "metadata": {
    "execution": {
     "iopub.execute_input": "2020-10-25T14:46:14.766155Z",
     "iopub.status.busy": "2020-10-25T14:46:14.765354Z",
     "iopub.status.idle": "2020-10-25T14:46:14.770401Z",
     "shell.execute_reply": "2020-10-25T14:46:14.771247Z"
    },
    "executionInfo": {
     "elapsed": 1270,
     "status": "ok",
     "timestamp": 1603286887953,
     "user": {
      "displayName": "Mohit Kumar",
      "photoUrl": "https://lh3.googleusercontent.com/a-/AOh14Gj8w3q63HFTUHmSvksuo2jqQuRy7MffzxIK9Ft9=s64",
      "userId": "10280412065584785973"
     },
     "user_tz": -330
    },
    "id": "KQ-l-1xeIg1W",
    "outputId": "30b0c9e4-939e-407f-aa1a-89d734e7566b",
    "papermill": {
     "duration": 0.072684,
     "end_time": "2020-10-25T14:46:14.771424",
     "exception": false,
     "start_time": "2020-10-25T14:46:14.698740",
     "status": "completed"
    },
    "tags": []
   },
   "outputs": [
    {
     "data": {
      "text/html": [
       "<div>\n",
       "<style scoped>\n",
       "    .dataframe tbody tr th:only-of-type {\n",
       "        vertical-align: middle;\n",
       "    }\n",
       "\n",
       "    .dataframe tbody tr th {\n",
       "        vertical-align: top;\n",
       "    }\n",
       "\n",
       "    .dataframe thead th {\n",
       "        text-align: right;\n",
       "    }\n",
       "</style>\n",
       "<table border=\"1\" class=\"dataframe\">\n",
       "  <thead>\n",
       "    <tr style=\"text-align: right;\">\n",
       "      <th></th>\n",
       "      <th>PassengerId</th>\n",
       "      <th>Survived</th>\n",
       "      <th>Pclass</th>\n",
       "      <th>Sex</th>\n",
       "      <th>Age</th>\n",
       "      <th>SibSp</th>\n",
       "      <th>Parch</th>\n",
       "      <th>Ticket</th>\n",
       "      <th>Fare</th>\n",
       "      <th>Cabin</th>\n",
       "      <th>Embarked</th>\n",
       "      <th>Title</th>\n",
       "    </tr>\n",
       "  </thead>\n",
       "  <tbody>\n",
       "    <tr>\n",
       "      <th>0</th>\n",
       "      <td>1</td>\n",
       "      <td>0</td>\n",
       "      <td>3</td>\n",
       "      <td>0</td>\n",
       "      <td>22.0</td>\n",
       "      <td>1</td>\n",
       "      <td>0</td>\n",
       "      <td>A/5 21171</td>\n",
       "      <td>7.2500</td>\n",
       "      <td>NaN</td>\n",
       "      <td>0</td>\n",
       "      <td>0</td>\n",
       "    </tr>\n",
       "    <tr>\n",
       "      <th>1</th>\n",
       "      <td>2</td>\n",
       "      <td>1</td>\n",
       "      <td>1</td>\n",
       "      <td>1</td>\n",
       "      <td>38.0</td>\n",
       "      <td>1</td>\n",
       "      <td>0</td>\n",
       "      <td>PC 17599</td>\n",
       "      <td>71.2833</td>\n",
       "      <td>C85</td>\n",
       "      <td>1</td>\n",
       "      <td>2</td>\n",
       "    </tr>\n",
       "    <tr>\n",
       "      <th>2</th>\n",
       "      <td>3</td>\n",
       "      <td>1</td>\n",
       "      <td>3</td>\n",
       "      <td>1</td>\n",
       "      <td>26.0</td>\n",
       "      <td>0</td>\n",
       "      <td>0</td>\n",
       "      <td>STON/O2. 3101282</td>\n",
       "      <td>7.9250</td>\n",
       "      <td>NaN</td>\n",
       "      <td>0</td>\n",
       "      <td>1</td>\n",
       "    </tr>\n",
       "    <tr>\n",
       "      <th>3</th>\n",
       "      <td>4</td>\n",
       "      <td>1</td>\n",
       "      <td>1</td>\n",
       "      <td>1</td>\n",
       "      <td>35.0</td>\n",
       "      <td>1</td>\n",
       "      <td>0</td>\n",
       "      <td>113803</td>\n",
       "      <td>53.1000</td>\n",
       "      <td>C123</td>\n",
       "      <td>0</td>\n",
       "      <td>2</td>\n",
       "    </tr>\n",
       "    <tr>\n",
       "      <th>4</th>\n",
       "      <td>5</td>\n",
       "      <td>0</td>\n",
       "      <td>3</td>\n",
       "      <td>0</td>\n",
       "      <td>35.0</td>\n",
       "      <td>0</td>\n",
       "      <td>0</td>\n",
       "      <td>373450</td>\n",
       "      <td>8.0500</td>\n",
       "      <td>NaN</td>\n",
       "      <td>0</td>\n",
       "      <td>0</td>\n",
       "    </tr>\n",
       "  </tbody>\n",
       "</table>\n",
       "</div>"
      ],
      "text/plain": [
       "   PassengerId  Survived  Pclass  Sex   Age  SibSp  Parch            Ticket  \\\n",
       "0            1         0       3    0  22.0      1      0         A/5 21171   \n",
       "1            2         1       1    1  38.0      1      0          PC 17599   \n",
       "2            3         1       3    1  26.0      0      0  STON/O2. 3101282   \n",
       "3            4         1       1    1  35.0      1      0            113803   \n",
       "4            5         0       3    0  35.0      0      0            373450   \n",
       "\n",
       "      Fare Cabin  Embarked  Title  \n",
       "0   7.2500   NaN         0      0  \n",
       "1  71.2833   C85         1      2  \n",
       "2   7.9250   NaN         0      1  \n",
       "3  53.1000  C123         0      2  \n",
       "4   8.0500   NaN         0      0  "
      ]
     },
     "execution_count": 27,
     "metadata": {},
     "output_type": "execute_result"
    }
   ],
   "source": [
    "train.head()"
   ]
  },
  {
   "cell_type": "code",
   "execution_count": 28,
   "metadata": {
    "execution": {
     "iopub.execute_input": "2020-10-25T14:46:14.879420Z",
     "iopub.status.busy": "2020-10-25T14:46:14.878281Z",
     "iopub.status.idle": "2020-10-25T14:46:14.881953Z",
     "shell.execute_reply": "2020-10-25T14:46:14.881162Z"
    },
    "executionInfo": {
     "elapsed": 1457,
     "status": "ok",
     "timestamp": 1603337527793,
     "user": {
      "displayName": "Mohit Kumar",
      "photoUrl": "https://lh3.googleusercontent.com/a-/AOh14Gj8w3q63HFTUHmSvksuo2jqQuRy7MffzxIK9Ft9=s64",
      "userId": "10280412065584785973"
     },
     "user_tz": -330
    },
    "id": "vO8-KjmLVoYM",
    "papermill": {
     "duration": 0.062178,
     "end_time": "2020-10-25T14:46:14.882153",
     "exception": false,
     "start_time": "2020-10-25T14:46:14.819975",
     "status": "completed"
    },
    "tags": []
   },
   "outputs": [],
   "source": [
    "train.drop('Cabin', axis=1, inplace=True)\n",
    "test.drop('Cabin', axis=1, inplace=True)"
   ]
  },
  {
   "cell_type": "code",
   "execution_count": 29,
   "metadata": {
    "execution": {
     "iopub.execute_input": "2020-10-25T14:46:14.994048Z",
     "iopub.status.busy": "2020-10-25T14:46:14.993108Z",
     "iopub.status.idle": "2020-10-25T14:46:14.998721Z",
     "shell.execute_reply": "2020-10-25T14:46:14.997761Z"
    },
    "executionInfo": {
     "elapsed": 1730,
     "status": "ok",
     "timestamp": 1603337532148,
     "user": {
      "displayName": "Mohit Kumar",
      "photoUrl": "https://lh3.googleusercontent.com/a-/AOh14Gj8w3q63HFTUHmSvksuo2jqQuRy7MffzxIK9Ft9=s64",
      "userId": "10280412065584785973"
     },
     "user_tz": -330
    },
    "id": "ltCwLJEVHLFa",
    "papermill": {
     "duration": 0.064216,
     "end_time": "2020-10-25T14:46:14.998874",
     "exception": false,
     "start_time": "2020-10-25T14:46:14.934658",
     "status": "completed"
    },
    "tags": []
   },
   "outputs": [],
   "source": [
    " \n",
    "train.drop('Ticket', axis=1, inplace=True)\n",
    "test.drop('Ticket', axis=1, inplace=True)"
   ]
  },
  {
   "cell_type": "code",
   "execution_count": 30,
   "metadata": {
    "execution": {
     "iopub.execute_input": "2020-10-25T14:46:15.108310Z",
     "iopub.status.busy": "2020-10-25T14:46:15.107103Z",
     "iopub.status.idle": "2020-10-25T14:46:15.111756Z",
     "shell.execute_reply": "2020-10-25T14:46:15.110997Z"
    },
    "executionInfo": {
     "elapsed": 880,
     "status": "ok",
     "timestamp": 1603337534863,
     "user": {
      "displayName": "Mohit Kumar",
      "photoUrl": "https://lh3.googleusercontent.com/a-/AOh14Gj8w3q63HFTUHmSvksuo2jqQuRy7MffzxIK9Ft9=s64",
      "userId": "10280412065584785973"
     },
     "user_tz": -330
    },
    "id": "rAxN8hMbWDup",
    "papermill": {
     "duration": 0.064334,
     "end_time": "2020-10-25T14:46:15.111897",
     "exception": false,
     "start_time": "2020-10-25T14:46:15.047563",
     "status": "completed"
    },
    "tags": []
   },
   "outputs": [],
   "source": [
    " features_drop = ['SibSp', 'Parch']\n",
    "train = train.drop(features_drop, axis=1)\n",
    "test = test.drop(features_drop, axis=1)\n",
    "train = train.drop(['PassengerId'], axis=1)"
   ]
  },
  {
   "cell_type": "code",
   "execution_count": 31,
   "metadata": {
    "execution": {
     "iopub.execute_input": "2020-10-25T14:46:15.235283Z",
     "iopub.status.busy": "2020-10-25T14:46:15.233920Z",
     "iopub.status.idle": "2020-10-25T14:46:15.238597Z",
     "shell.execute_reply": "2020-10-25T14:46:15.239305Z"
    },
    "executionInfo": {
     "elapsed": 1502,
     "status": "ok",
     "timestamp": 1603337541452,
     "user": {
      "displayName": "Mohit Kumar",
      "photoUrl": "https://lh3.googleusercontent.com/a-/AOh14Gj8w3q63HFTUHmSvksuo2jqQuRy7MffzxIK9Ft9=s64",
      "userId": "10280412065584785973"
     },
     "user_tz": -330
    },
    "id": "yLtS6IcLXqVs",
    "outputId": "d988c864-7250-4ca6-bc17-a283f4e1b9f4",
    "papermill": {
     "duration": 0.070356,
     "end_time": "2020-10-25T14:46:15.239490",
     "exception": false,
     "start_time": "2020-10-25T14:46:15.169134",
     "status": "completed"
    },
    "tags": []
   },
   "outputs": [
    {
     "data": {
      "text/plain": [
       "((891, 6), (891,))"
      ]
     },
     "execution_count": 31,
     "metadata": {},
     "output_type": "execute_result"
    }
   ],
   "source": [
    " train_data = train.drop('Survived', axis=1)\n",
    "target = train['Survived']\n",
    " \n",
    "train_data.shape, target.shape"
   ]
  },
  {
   "cell_type": "code",
   "execution_count": 32,
   "metadata": {
    "execution": {
     "iopub.execute_input": "2020-10-25T14:46:15.363122Z",
     "iopub.status.busy": "2020-10-25T14:46:15.361975Z",
     "iopub.status.idle": "2020-10-25T14:46:15.366710Z",
     "shell.execute_reply": "2020-10-25T14:46:15.365938Z"
    },
    "executionInfo": {
     "elapsed": 1203,
     "status": "ok",
     "timestamp": 1603299793073,
     "user": {
      "displayName": "Mohit Kumar",
      "photoUrl": "https://lh3.googleusercontent.com/a-/AOh14Gj8w3q63HFTUHmSvksuo2jqQuRy7MffzxIK9Ft9=s64",
      "userId": "10280412065584785973"
     },
     "user_tz": -330
    },
    "id": "0HPXaSLkYAza",
    "outputId": "d90faeb7-a564-4520-a26c-b24f9188e15e",
    "papermill": {
     "duration": 0.071885,
     "end_time": "2020-10-25T14:46:15.366839",
     "exception": false,
     "start_time": "2020-10-25T14:46:15.294954",
     "status": "completed"
    },
    "tags": []
   },
   "outputs": [
    {
     "data": {
      "text/html": [
       "<div>\n",
       "<style scoped>\n",
       "    .dataframe tbody tr th:only-of-type {\n",
       "        vertical-align: middle;\n",
       "    }\n",
       "\n",
       "    .dataframe tbody tr th {\n",
       "        vertical-align: top;\n",
       "    }\n",
       "\n",
       "    .dataframe thead th {\n",
       "        text-align: right;\n",
       "    }\n",
       "</style>\n",
       "<table border=\"1\" class=\"dataframe\">\n",
       "  <thead>\n",
       "    <tr style=\"text-align: right;\">\n",
       "      <th></th>\n",
       "      <th>Pclass</th>\n",
       "      <th>Sex</th>\n",
       "      <th>Age</th>\n",
       "      <th>Fare</th>\n",
       "      <th>Embarked</th>\n",
       "      <th>Title</th>\n",
       "    </tr>\n",
       "  </thead>\n",
       "  <tbody>\n",
       "    <tr>\n",
       "      <th>0</th>\n",
       "      <td>3</td>\n",
       "      <td>0</td>\n",
       "      <td>22.0</td>\n",
       "      <td>7.2500</td>\n",
       "      <td>0</td>\n",
       "      <td>0</td>\n",
       "    </tr>\n",
       "    <tr>\n",
       "      <th>1</th>\n",
       "      <td>1</td>\n",
       "      <td>1</td>\n",
       "      <td>38.0</td>\n",
       "      <td>71.2833</td>\n",
       "      <td>1</td>\n",
       "      <td>2</td>\n",
       "    </tr>\n",
       "    <tr>\n",
       "      <th>2</th>\n",
       "      <td>3</td>\n",
       "      <td>1</td>\n",
       "      <td>26.0</td>\n",
       "      <td>7.9250</td>\n",
       "      <td>0</td>\n",
       "      <td>1</td>\n",
       "    </tr>\n",
       "    <tr>\n",
       "      <th>3</th>\n",
       "      <td>1</td>\n",
       "      <td>1</td>\n",
       "      <td>35.0</td>\n",
       "      <td>53.1000</td>\n",
       "      <td>0</td>\n",
       "      <td>2</td>\n",
       "    </tr>\n",
       "    <tr>\n",
       "      <th>4</th>\n",
       "      <td>3</td>\n",
       "      <td>0</td>\n",
       "      <td>35.0</td>\n",
       "      <td>8.0500</td>\n",
       "      <td>0</td>\n",
       "      <td>0</td>\n",
       "    </tr>\n",
       "  </tbody>\n",
       "</table>\n",
       "</div>"
      ],
      "text/plain": [
       "   Pclass  Sex   Age     Fare  Embarked  Title\n",
       "0       3    0  22.0   7.2500         0      0\n",
       "1       1    1  38.0  71.2833         1      2\n",
       "2       3    1  26.0   7.9250         0      1\n",
       "3       1    1  35.0  53.1000         0      2\n",
       "4       3    0  35.0   8.0500         0      0"
      ]
     },
     "execution_count": 32,
     "metadata": {},
     "output_type": "execute_result"
    }
   ],
   "source": [
    "train_data.head()"
   ]
  },
  {
   "cell_type": "code",
   "execution_count": 33,
   "metadata": {
    "execution": {
     "iopub.execute_input": "2020-10-25T14:46:15.483218Z",
     "iopub.status.busy": "2020-10-25T14:46:15.481713Z",
     "iopub.status.idle": "2020-10-25T14:46:15.715942Z",
     "shell.execute_reply": "2020-10-25T14:46:15.715153Z"
    },
    "executionInfo": {
     "elapsed": 1858,
     "status": "ok",
     "timestamp": 1603337547470,
     "user": {
      "displayName": "Mohit Kumar",
      "photoUrl": "https://lh3.googleusercontent.com/a-/AOh14Gj8w3q63HFTUHmSvksuo2jqQuRy7MffzxIK9Ft9=s64",
      "userId": "10280412065584785973"
     },
     "user_tz": -330
    },
    "id": "nYE8O5E_YTXx",
    "papermill": {
     "duration": 0.293699,
     "end_time": "2020-10-25T14:46:15.716112",
     "exception": false,
     "start_time": "2020-10-25T14:46:15.422413",
     "status": "completed"
    },
    "tags": []
   },
   "outputs": [],
   "source": [
    "from sklearn.svm import SVC"
   ]
  },
  {
   "cell_type": "code",
   "execution_count": 34,
   "metadata": {
    "execution": {
     "iopub.execute_input": "2020-10-25T14:46:15.822557Z",
     "iopub.status.busy": "2020-10-25T14:46:15.821317Z",
     "iopub.status.idle": "2020-10-25T14:46:15.828383Z",
     "shell.execute_reply": "2020-10-25T14:46:15.827629Z"
    },
    "papermill": {
     "duration": 0.06457,
     "end_time": "2020-10-25T14:46:15.828526",
     "exception": false,
     "start_time": "2020-10-25T14:46:15.763956",
     "status": "completed"
    },
    "tags": []
   },
   "outputs": [],
   "source": [
    "from sklearn.model_selection import GridSearchCV\n",
    "from sklearn.model_selection import train_test_split\n",
    "\n",
    "X_train, X_test, y_train, y_test = train_test_split(train_data, target, test_size=0.2)"
   ]
  },
  {
   "cell_type": "code",
   "execution_count": 35,
   "metadata": {
    "execution": {
     "iopub.execute_input": "2020-10-25T14:46:15.947819Z",
     "iopub.status.busy": "2020-10-25T14:46:15.946904Z",
     "iopub.status.idle": "2020-10-25T14:46:20.763716Z",
     "shell.execute_reply": "2020-10-25T14:46:20.762912Z"
    },
    "papermill": {
     "duration": 4.879752,
     "end_time": "2020-10-25T14:46:20.763842",
     "exception": false,
     "start_time": "2020-10-25T14:46:15.884090",
     "status": "completed"
    },
    "tags": []
   },
   "outputs": [
    {
     "name": "stdout",
     "output_type": "stream",
     "text": [
      "Fitting 5 folds for each of 25 candidates, totalling 125 fits\n",
      "[CV] C=0.1, gamma=1, kernel=rbf ......................................\n",
      "[CV] .......... C=0.1, gamma=1, kernel=rbf, score=0.608, total=   0.0s\n",
      "[CV] C=0.1, gamma=1, kernel=rbf ......................................\n",
      "[CV] .......... C=0.1, gamma=1, kernel=rbf, score=0.608, total=   0.0s\n",
      "[CV] C=0.1, gamma=1, kernel=rbf ......................................\n",
      "[CV] .......... C=0.1, gamma=1, kernel=rbf, score=0.606, total=   0.0s\n",
      "[CV] C=0.1, gamma=1, kernel=rbf ......................................\n",
      "[CV] .......... C=0.1, gamma=1, kernel=rbf, score=0.606, total=   0.0s\n",
      "[CV] C=0.1, gamma=1, kernel=rbf ......................................\n",
      "[CV] .......... C=0.1, gamma=1, kernel=rbf, score=0.606, total=   0.0s\n",
      "[CV] C=0.1, gamma=0.1, kernel=rbf ....................................\n",
      "[CV] ........ C=0.1, gamma=0.1, kernel=rbf, score=0.608, total=   0.0s\n",
      "[CV] C=0.1, gamma=0.1, kernel=rbf ....................................\n",
      "[CV] ........ C=0.1, gamma=0.1, kernel=rbf, score=0.608, total=   0.0s\n",
      "[CV] C=0.1, gamma=0.1, kernel=rbf ....................................\n"
     ]
    },
    {
     "name": "stderr",
     "output_type": "stream",
     "text": [
      "[Parallel(n_jobs=1)]: Using backend SequentialBackend with 1 concurrent workers.\n",
      "[Parallel(n_jobs=1)]: Done   1 out of   1 | elapsed:    0.0s remaining:    0.0s\n",
      "[Parallel(n_jobs=1)]: Done   2 out of   2 | elapsed:    0.1s remaining:    0.0s\n"
     ]
    },
    {
     "name": "stdout",
     "output_type": "stream",
     "text": [
      "[CV] ........ C=0.1, gamma=0.1, kernel=rbf, score=0.606, total=   0.0s\n",
      "[CV] C=0.1, gamma=0.1, kernel=rbf ....................................\n",
      "[CV] ........ C=0.1, gamma=0.1, kernel=rbf, score=0.606, total=   0.0s\n",
      "[CV] C=0.1, gamma=0.1, kernel=rbf ....................................\n",
      "[CV] ........ C=0.1, gamma=0.1, kernel=rbf, score=0.606, total=   0.0s\n",
      "[CV] C=0.1, gamma=0.01, kernel=rbf ...................................\n",
      "[CV] ....... C=0.1, gamma=0.01, kernel=rbf, score=0.678, total=   0.0s\n",
      "[CV] C=0.1, gamma=0.01, kernel=rbf ...................................\n",
      "[CV] ....... C=0.1, gamma=0.01, kernel=rbf, score=0.678, total=   0.0s\n",
      "[CV] C=0.1, gamma=0.01, kernel=rbf ...................................\n",
      "[CV] ....... C=0.1, gamma=0.01, kernel=rbf, score=0.662, total=   0.0s\n",
      "[CV] C=0.1, gamma=0.01, kernel=rbf ...................................\n",
      "[CV] ....... C=0.1, gamma=0.01, kernel=rbf, score=0.641, total=   0.0s\n",
      "[CV] C=0.1, gamma=0.01, kernel=rbf ...................................\n",
      "[CV] ....... C=0.1, gamma=0.01, kernel=rbf, score=0.648, total=   0.0s\n",
      "[CV] C=0.1, gamma=0.001, kernel=rbf ..................................\n",
      "[CV] ...... C=0.1, gamma=0.001, kernel=rbf, score=0.643, total=   0.0s\n",
      "[CV] C=0.1, gamma=0.001, kernel=rbf ..................................\n",
      "[CV] ...... C=0.1, gamma=0.001, kernel=rbf, score=0.664, total=   0.0s\n",
      "[CV] C=0.1, gamma=0.001, kernel=rbf ..................................\n",
      "[CV] ...... C=0.1, gamma=0.001, kernel=rbf, score=0.655, total=   0.0s\n",
      "[CV] C=0.1, gamma=0.001, kernel=rbf ..................................\n",
      "[CV] ...... C=0.1, gamma=0.001, kernel=rbf, score=0.690, total=   0.0s\n",
      "[CV] C=0.1, gamma=0.001, kernel=rbf ..................................\n",
      "[CV] ...... C=0.1, gamma=0.001, kernel=rbf, score=0.676, total=   0.0s\n",
      "[CV] C=0.1, gamma=0.0001, kernel=rbf .................................\n",
      "[CV] ..... C=0.1, gamma=0.0001, kernel=rbf, score=0.657, total=   0.0s\n",
      "[CV] C=0.1, gamma=0.0001, kernel=rbf .................................\n",
      "[CV] ..... C=0.1, gamma=0.0001, kernel=rbf, score=0.664, total=   0.0s\n",
      "[CV] C=0.1, gamma=0.0001, kernel=rbf .................................\n",
      "[CV] ..... C=0.1, gamma=0.0001, kernel=rbf, score=0.620, total=   0.0s\n",
      "[CV] C=0.1, gamma=0.0001, kernel=rbf .................................\n",
      "[CV] ..... C=0.1, gamma=0.0001, kernel=rbf, score=0.676, total=   0.0s\n",
      "[CV] C=0.1, gamma=0.0001, kernel=rbf .................................\n",
      "[CV] ..... C=0.1, gamma=0.0001, kernel=rbf, score=0.669, total=   0.0s\n",
      "[CV] C=1, gamma=1, kernel=rbf ........................................\n",
      "[CV] ............ C=1, gamma=1, kernel=rbf, score=0.601, total=   0.0s\n",
      "[CV] C=1, gamma=1, kernel=rbf ........................................\n",
      "[CV] ............ C=1, gamma=1, kernel=rbf, score=0.629, total=   0.0s\n",
      "[CV] C=1, gamma=1, kernel=rbf ........................................\n",
      "[CV] ............ C=1, gamma=1, kernel=rbf, score=0.655, total=   0.0s\n",
      "[CV] C=1, gamma=1, kernel=rbf ........................................\n",
      "[CV] ............ C=1, gamma=1, kernel=rbf, score=0.634, total=   0.0s\n",
      "[CV] C=1, gamma=1, kernel=rbf ........................................\n",
      "[CV] ............ C=1, gamma=1, kernel=rbf, score=0.620, total=   0.0s\n",
      "[CV] C=1, gamma=0.1, kernel=rbf ......................................\n",
      "[CV] .......... C=1, gamma=0.1, kernel=rbf, score=0.678, total=   0.0s\n",
      "[CV] C=1, gamma=0.1, kernel=rbf ......................................\n",
      "[CV] .......... C=1, gamma=0.1, kernel=rbf, score=0.706, total=   0.0s\n",
      "[CV] C=1, gamma=0.1, kernel=rbf ......................................\n",
      "[CV] .......... C=1, gamma=0.1, kernel=rbf, score=0.704, total=   0.0s\n",
      "[CV] C=1, gamma=0.1, kernel=rbf ......................................\n",
      "[CV] .......... C=1, gamma=0.1, kernel=rbf, score=0.711, total=   0.0s\n",
      "[CV] C=1, gamma=0.1, kernel=rbf ......................................\n",
      "[CV] .......... C=1, gamma=0.1, kernel=rbf, score=0.732, total=   0.0s\n",
      "[CV] C=1, gamma=0.01, kernel=rbf .....................................\n",
      "[CV] ......... C=1, gamma=0.01, kernel=rbf, score=0.762, total=   0.0s\n",
      "[CV] C=1, gamma=0.01, kernel=rbf .....................................\n",
      "[CV] ......... C=1, gamma=0.01, kernel=rbf, score=0.706, total=   0.0s\n",
      "[CV] C=1, gamma=0.01, kernel=rbf .....................................\n",
      "[CV] ......... C=1, gamma=0.01, kernel=rbf, score=0.711, total=   0.0s\n",
      "[CV] C=1, gamma=0.01, kernel=rbf .....................................\n",
      "[CV] ......... C=1, gamma=0.01, kernel=rbf, score=0.732, total=   0.0s\n",
      "[CV] C=1, gamma=0.01, kernel=rbf .....................................\n",
      "[CV] ......... C=1, gamma=0.01, kernel=rbf, score=0.754, total=   0.0s\n",
      "[CV] C=1, gamma=0.001, kernel=rbf ....................................\n",
      "[CV] ........ C=1, gamma=0.001, kernel=rbf, score=0.650, total=   0.0s\n",
      "[CV] C=1, gamma=0.001, kernel=rbf ....................................\n",
      "[CV] ........ C=1, gamma=0.001, kernel=rbf, score=0.699, total=   0.0s\n",
      "[CV] C=1, gamma=0.001, kernel=rbf ....................................\n",
      "[CV] ........ C=1, gamma=0.001, kernel=rbf, score=0.669, total=   0.0s\n",
      "[CV] C=1, gamma=0.001, kernel=rbf ....................................\n",
      "[CV] ........ C=1, gamma=0.001, kernel=rbf, score=0.704, total=   0.0s\n",
      "[CV] C=1, gamma=0.001, kernel=rbf ....................................\n",
      "[CV] ........ C=1, gamma=0.001, kernel=rbf, score=0.690, total=   0.0s\n",
      "[CV] C=1, gamma=0.0001, kernel=rbf ...................................\n",
      "[CV] ....... C=1, gamma=0.0001, kernel=rbf, score=0.650, total=   0.0s\n",
      "[CV] C=1, gamma=0.0001, kernel=rbf ...................................\n",
      "[CV] ....... C=1, gamma=0.0001, kernel=rbf, score=0.692, total=   0.0s\n",
      "[CV] C=1, gamma=0.0001, kernel=rbf ...................................\n",
      "[CV] ....... C=1, gamma=0.0001, kernel=rbf, score=0.648, total=   0.0s\n",
      "[CV] C=1, gamma=0.0001, kernel=rbf ...................................\n",
      "[CV] ....... C=1, gamma=0.0001, kernel=rbf, score=0.683, total=   0.0s\n",
      "[CV] C=1, gamma=0.0001, kernel=rbf ...................................\n",
      "[CV] ....... C=1, gamma=0.0001, kernel=rbf, score=0.676, total=   0.0s\n",
      "[CV] C=10, gamma=1, kernel=rbf .......................................\n",
      "[CV] ........... C=10, gamma=1, kernel=rbf, score=0.587, total=   0.0s\n",
      "[CV] C=10, gamma=1, kernel=rbf .......................................\n",
      "[CV] ........... C=10, gamma=1, kernel=rbf, score=0.629, total=   0.0s\n",
      "[CV] C=10, gamma=1, kernel=rbf .......................................\n",
      "[CV] ........... C=10, gamma=1, kernel=rbf, score=0.648, total=   0.0s\n",
      "[CV] C=10, gamma=1, kernel=rbf .......................................\n",
      "[CV] ........... C=10, gamma=1, kernel=rbf, score=0.641, total=   0.0s\n",
      "[CV] C=10, gamma=1, kernel=rbf .......................................\n",
      "[CV] ........... C=10, gamma=1, kernel=rbf, score=0.627, total=   0.0s\n",
      "[CV] C=10, gamma=0.1, kernel=rbf .....................................\n",
      "[CV] ......... C=10, gamma=0.1, kernel=rbf, score=0.713, total=   0.0s\n",
      "[CV] C=10, gamma=0.1, kernel=rbf .....................................\n",
      "[CV] ......... C=10, gamma=0.1, kernel=rbf, score=0.671, total=   0.0s\n",
      "[CV] C=10, gamma=0.1, kernel=rbf .....................................\n",
      "[CV] ......... C=10, gamma=0.1, kernel=rbf, score=0.690, total=   0.0s\n",
      "[CV] C=10, gamma=0.1, kernel=rbf .....................................\n",
      "[CV] ......... C=10, gamma=0.1, kernel=rbf, score=0.732, total=   0.0s\n",
      "[CV] C=10, gamma=0.1, kernel=rbf .....................................\n",
      "[CV] ......... C=10, gamma=0.1, kernel=rbf, score=0.704, total=   0.0s\n",
      "[CV] C=10, gamma=0.01, kernel=rbf ....................................\n",
      "[CV] ........ C=10, gamma=0.01, kernel=rbf, score=0.741, total=   0.0s\n",
      "[CV] C=10, gamma=0.01, kernel=rbf ....................................\n",
      "[CV] ........ C=10, gamma=0.01, kernel=rbf, score=0.664, total=   0.0s\n",
      "[CV] C=10, gamma=0.01, kernel=rbf ....................................\n",
      "[CV] ........ C=10, gamma=0.01, kernel=rbf, score=0.739, total=   0.0s\n",
      "[CV] C=10, gamma=0.01, kernel=rbf ....................................\n",
      "[CV] ........ C=10, gamma=0.01, kernel=rbf, score=0.768, total=   0.0s\n",
      "[CV] C=10, gamma=0.01, kernel=rbf ....................................\n",
      "[CV] ........ C=10, gamma=0.01, kernel=rbf, score=0.754, total=   0.0s\n",
      "[CV] C=10, gamma=0.001, kernel=rbf ...................................\n",
      "[CV] ....... C=10, gamma=0.001, kernel=rbf, score=0.783, total=   0.0s\n",
      "[CV] C=10, gamma=0.001, kernel=rbf ...................................\n",
      "[CV] ....... C=10, gamma=0.001, kernel=rbf, score=0.776, total=   0.0s\n",
      "[CV] C=10, gamma=0.001, kernel=rbf ...................................\n",
      "[CV] ....... C=10, gamma=0.001, kernel=rbf, score=0.732, total=   0.0s\n",
      "[CV] C=10, gamma=0.001, kernel=rbf ...................................\n",
      "[CV] ....... C=10, gamma=0.001, kernel=rbf, score=0.761, total=   0.0s\n",
      "[CV] C=10, gamma=0.001, kernel=rbf ...................................\n",
      "[CV] ....... C=10, gamma=0.001, kernel=rbf, score=0.754, total=   0.0s\n",
      "[CV] C=10, gamma=0.0001, kernel=rbf ..................................\n",
      "[CV] ...... C=10, gamma=0.0001, kernel=rbf, score=0.671, total=   0.0s\n",
      "[CV] C=10, gamma=0.0001, kernel=rbf ..................................\n",
      "[CV] ...... C=10, gamma=0.0001, kernel=rbf, score=0.706, total=   0.0s\n",
      "[CV] C=10, gamma=0.0001, kernel=rbf ..................................\n",
      "[CV] ...... C=10, gamma=0.0001, kernel=rbf, score=0.655, total=   0.0s\n",
      "[CV] C=10, gamma=0.0001, kernel=rbf ..................................\n",
      "[CV] ...... C=10, gamma=0.0001, kernel=rbf, score=0.704, total=   0.0s\n",
      "[CV] C=10, gamma=0.0001, kernel=rbf ..................................\n",
      "[CV] ...... C=10, gamma=0.0001, kernel=rbf, score=0.669, total=   0.0s\n",
      "[CV] C=100, gamma=1, kernel=rbf ......................................\n",
      "[CV] .......... C=100, gamma=1, kernel=rbf, score=0.594, total=   0.0s\n",
      "[CV] C=100, gamma=1, kernel=rbf ......................................\n",
      "[CV] .......... C=100, gamma=1, kernel=rbf, score=0.615, total=   0.0s\n",
      "[CV] C=100, gamma=1, kernel=rbf ......................................\n",
      "[CV] .......... C=100, gamma=1, kernel=rbf, score=0.648, total=   0.0s\n",
      "[CV] C=100, gamma=1, kernel=rbf ......................................\n",
      "[CV] .......... C=100, gamma=1, kernel=rbf, score=0.627, total=   0.0s\n",
      "[CV] C=100, gamma=1, kernel=rbf ......................................\n",
      "[CV] .......... C=100, gamma=1, kernel=rbf, score=0.592, total=   0.0s\n",
      "[CV] C=100, gamma=0.1, kernel=rbf ....................................\n",
      "[CV] ........ C=100, gamma=0.1, kernel=rbf, score=0.720, total=   0.0s\n",
      "[CV] C=100, gamma=0.1, kernel=rbf ....................................\n",
      "[CV] ........ C=100, gamma=0.1, kernel=rbf, score=0.671, total=   0.0s\n",
      "[CV] C=100, gamma=0.1, kernel=rbf ....................................\n",
      "[CV] ........ C=100, gamma=0.1, kernel=rbf, score=0.697, total=   0.0s\n",
      "[CV] C=100, gamma=0.1, kernel=rbf ....................................\n",
      "[CV] ........ C=100, gamma=0.1, kernel=rbf, score=0.725, total=   0.0s\n",
      "[CV] C=100, gamma=0.1, kernel=rbf ....................................\n",
      "[CV] ........ C=100, gamma=0.1, kernel=rbf, score=0.627, total=   0.0s\n",
      "[CV] C=100, gamma=0.01, kernel=rbf ...................................\n",
      "[CV] ....... C=100, gamma=0.01, kernel=rbf, score=0.783, total=   0.0s\n",
      "[CV] C=100, gamma=0.01, kernel=rbf ...................................\n",
      "[CV] ....... C=100, gamma=0.01, kernel=rbf, score=0.678, total=   0.0s\n",
      "[CV] C=100, gamma=0.01, kernel=rbf ...................................\n",
      "[CV] ....... C=100, gamma=0.01, kernel=rbf, score=0.732, total=   0.0s\n",
      "[CV] C=100, gamma=0.01, kernel=rbf ...................................\n",
      "[CV] ....... C=100, gamma=0.01, kernel=rbf, score=0.789, total=   0.0s\n",
      "[CV] C=100, gamma=0.01, kernel=rbf ...................................\n",
      "[CV] ....... C=100, gamma=0.01, kernel=rbf, score=0.739, total=   0.0s\n",
      "[CV] C=100, gamma=0.001, kernel=rbf ..................................\n",
      "[CV] ...... C=100, gamma=0.001, kernel=rbf, score=0.797, total=   0.0s\n",
      "[CV] C=100, gamma=0.001, kernel=rbf ..................................\n",
      "[CV] ...... C=100, gamma=0.001, kernel=rbf, score=0.762, total=   0.0s\n",
      "[CV] C=100, gamma=0.001, kernel=rbf ..................................\n",
      "[CV] ...... C=100, gamma=0.001, kernel=rbf, score=0.789, total=   0.0s\n",
      "[CV] C=100, gamma=0.001, kernel=rbf ..................................\n",
      "[CV] ...... C=100, gamma=0.001, kernel=rbf, score=0.796, total=   0.0s\n",
      "[CV] C=100, gamma=0.001, kernel=rbf ..................................\n",
      "[CV] ...... C=100, gamma=0.001, kernel=rbf, score=0.775, total=   0.0s\n",
      "[CV] C=100, gamma=0.0001, kernel=rbf .................................\n",
      "[CV] ..... C=100, gamma=0.0001, kernel=rbf, score=0.776, total=   0.0s\n",
      "[CV] C=100, gamma=0.0001, kernel=rbf .................................\n",
      "[CV] ..... C=100, gamma=0.0001, kernel=rbf, score=0.783, total=   0.0s\n",
      "[CV] C=100, gamma=0.0001, kernel=rbf .................................\n",
      "[CV] ..... C=100, gamma=0.0001, kernel=rbf, score=0.761, total=   0.0s\n",
      "[CV] C=100, gamma=0.0001, kernel=rbf .................................\n",
      "[CV] ..... C=100, gamma=0.0001, kernel=rbf, score=0.775, total=   0.0s\n",
      "[CV] C=100, gamma=0.0001, kernel=rbf .................................\n",
      "[CV] ..... C=100, gamma=0.0001, kernel=rbf, score=0.782, total=   0.0s\n",
      "[CV] C=1000, gamma=1, kernel=rbf .....................................\n",
      "[CV] ......... C=1000, gamma=1, kernel=rbf, score=0.601, total=   0.0s\n",
      "[CV] C=1000, gamma=1, kernel=rbf .....................................\n",
      "[CV] ......... C=1000, gamma=1, kernel=rbf, score=0.622, total=   0.0s\n",
      "[CV] C=1000, gamma=1, kernel=rbf .....................................\n",
      "[CV] ......... C=1000, gamma=1, kernel=rbf, score=0.634, total=   0.0s\n",
      "[CV] C=1000, gamma=1, kernel=rbf .....................................\n",
      "[CV] ......... C=1000, gamma=1, kernel=rbf, score=0.627, total=   0.0s\n",
      "[CV] C=1000, gamma=1, kernel=rbf .....................................\n",
      "[CV] ......... C=1000, gamma=1, kernel=rbf, score=0.577, total=   0.0s\n",
      "[CV] C=1000, gamma=0.1, kernel=rbf ...................................\n",
      "[CV] ....... C=1000, gamma=0.1, kernel=rbf, score=0.706, total=   0.1s\n",
      "[CV] C=1000, gamma=0.1, kernel=rbf ...................................\n",
      "[CV] ....... C=1000, gamma=0.1, kernel=rbf, score=0.629, total=   0.1s\n",
      "[CV] C=1000, gamma=0.1, kernel=rbf ...................................\n",
      "[CV] ....... C=1000, gamma=0.1, kernel=rbf, score=0.669, total=   0.1s\n",
      "[CV] C=1000, gamma=0.1, kernel=rbf ...................................\n",
      "[CV] ....... C=1000, gamma=0.1, kernel=rbf, score=0.711, total=   0.1s\n",
      "[CV] C=1000, gamma=0.1, kernel=rbf ...................................\n",
      "[CV] ....... C=1000, gamma=0.1, kernel=rbf, score=0.613, total=   0.0s\n",
      "[CV] C=1000, gamma=0.01, kernel=rbf ..................................\n",
      "[CV] ...... C=1000, gamma=0.01, kernel=rbf, score=0.769, total=   0.2s\n",
      "[CV] C=1000, gamma=0.01, kernel=rbf ..................................\n",
      "[CV] ...... C=1000, gamma=0.01, kernel=rbf, score=0.678, total=   0.2s\n",
      "[CV] C=1000, gamma=0.01, kernel=rbf ..................................\n",
      "[CV] ...... C=1000, gamma=0.01, kernel=rbf, score=0.718, total=   0.1s\n",
      "[CV] C=1000, gamma=0.01, kernel=rbf ..................................\n",
      "[CV] ...... C=1000, gamma=0.01, kernel=rbf, score=0.775, total=   0.1s\n",
      "[CV] C=1000, gamma=0.01, kernel=rbf ..................................\n",
      "[CV] ...... C=1000, gamma=0.01, kernel=rbf, score=0.789, total=   0.2s\n",
      "[CV] C=1000, gamma=0.001, kernel=rbf .................................\n",
      "[CV] ..... C=1000, gamma=0.001, kernel=rbf, score=0.832, total=   0.1s\n",
      "[CV] C=1000, gamma=0.001, kernel=rbf .................................\n",
      "[CV] ..... C=1000, gamma=0.001, kernel=rbf, score=0.741, total=   0.1s\n",
      "[CV] C=1000, gamma=0.001, kernel=rbf .................................\n",
      "[CV] ..... C=1000, gamma=0.001, kernel=rbf, score=0.768, total=   0.1s\n",
      "[CV] C=1000, gamma=0.001, kernel=rbf .................................\n",
      "[CV] ..... C=1000, gamma=0.001, kernel=rbf, score=0.761, total=   0.1s\n",
      "[CV] C=1000, gamma=0.001, kernel=rbf .................................\n",
      "[CV] ..... C=1000, gamma=0.001, kernel=rbf, score=0.775, total=   0.1s\n",
      "[CV] C=1000, gamma=0.0001, kernel=rbf ................................\n",
      "[CV] .... C=1000, gamma=0.0001, kernel=rbf, score=0.811, total=   0.1s\n",
      "[CV] C=1000, gamma=0.0001, kernel=rbf ................................\n",
      "[CV] .... C=1000, gamma=0.0001, kernel=rbf, score=0.769, total=   0.1s\n",
      "[CV] C=1000, gamma=0.0001, kernel=rbf ................................\n",
      "[CV] .... C=1000, gamma=0.0001, kernel=rbf, score=0.775, total=   0.1s\n",
      "[CV] C=1000, gamma=0.0001, kernel=rbf ................................\n",
      "[CV] .... C=1000, gamma=0.0001, kernel=rbf, score=0.810, total=   0.0s\n",
      "[CV] C=1000, gamma=0.0001, kernel=rbf ................................\n",
      "[CV] .... C=1000, gamma=0.0001, kernel=rbf, score=0.810, total=   0.1s\n"
     ]
    },
    {
     "name": "stderr",
     "output_type": "stream",
     "text": [
      "[Parallel(n_jobs=1)]: Done 125 out of 125 | elapsed:    4.7s finished\n"
     ]
    },
    {
     "data": {
      "text/plain": [
       "0.8156424581005587"
      ]
     },
     "execution_count": 35,
     "metadata": {},
     "output_type": "execute_result"
    }
   ],
   "source": [
    "param_grid = {'C': [0.1, 1, 10, 100, 1000],  \n",
    "\n",
    "              'gamma': [1, 0.1, 0.01, 0.001, 0.0001], \n",
    "\n",
    "              'kernel': ['rbf']}  \n",
    "\n",
    "  \n",
    "\n",
    "grid = GridSearchCV(SVC(), param_grid, refit = True, verbose = 3) \n",
    "\n",
    "  \n",
    "# fitting the model for grid search \n",
    "grid.fit(X_train, y_train)\n",
    "gd=grid.score(X_test, y_test)\n",
    "gd"
   ]
  },
  {
   "cell_type": "code",
   "execution_count": 36,
   "metadata": {
    "execution": {
     "iopub.execute_input": "2020-10-25T14:46:20.892983Z",
     "iopub.status.busy": "2020-10-25T14:46:20.890431Z",
     "iopub.status.idle": "2020-10-25T14:46:20.902243Z",
     "shell.execute_reply": "2020-10-25T14:46:20.901592Z"
    },
    "papermill": {
     "duration": 0.076771,
     "end_time": "2020-10-25T14:46:20.902381",
     "exception": false,
     "start_time": "2020-10-25T14:46:20.825610",
     "status": "completed"
    },
    "tags": []
   },
   "outputs": [],
   "source": [
    "tested_data = test.drop(\"PassengerId\", axis=1).copy()\n",
    "prediction = grid.predict(tested_data)"
   ]
  },
  {
   "cell_type": "code",
   "execution_count": 37,
   "metadata": {
    "execution": {
     "iopub.execute_input": "2020-10-25T14:46:21.037774Z",
     "iopub.status.busy": "2020-10-25T14:46:21.036940Z",
     "iopub.status.idle": "2020-10-25T14:46:21.356500Z",
     "shell.execute_reply": "2020-10-25T14:46:21.357129Z"
    },
    "papermill": {
     "duration": 0.391714,
     "end_time": "2020-10-25T14:46:21.357327",
     "exception": false,
     "start_time": "2020-10-25T14:46:20.965613",
     "status": "completed"
    },
    "tags": []
   },
   "outputs": [],
   "source": [
    "sub = pd.DataFrame({\n",
    "        \"PassengerId\": test[\"PassengerId\"],\n",
    "        \"Survived\": prediction\n",
    "    })\n",
    "\n",
    "sub.to_csv('submission.csv', index=False)"
   ]
  },
  {
   "cell_type": "code",
   "execution_count": 38,
   "metadata": {
    "execution": {
     "iopub.execute_input": "2020-10-25T14:46:21.488788Z",
     "iopub.status.busy": "2020-10-25T14:46:21.480750Z",
     "iopub.status.idle": "2020-10-25T14:46:21.494697Z",
     "shell.execute_reply": "2020-10-25T14:46:21.493899Z"
    },
    "papermill": {
     "duration": 0.077825,
     "end_time": "2020-10-25T14:46:21.494862",
     "exception": false,
     "start_time": "2020-10-25T14:46:21.417037",
     "status": "completed"
    },
    "tags": []
   },
   "outputs": [
    {
     "data": {
      "text/html": [
       "<div>\n",
       "<style scoped>\n",
       "    .dataframe tbody tr th:only-of-type {\n",
       "        vertical-align: middle;\n",
       "    }\n",
       "\n",
       "    .dataframe tbody tr th {\n",
       "        vertical-align: top;\n",
       "    }\n",
       "\n",
       "    .dataframe thead th {\n",
       "        text-align: right;\n",
       "    }\n",
       "</style>\n",
       "<table border=\"1\" class=\"dataframe\">\n",
       "  <thead>\n",
       "    <tr style=\"text-align: right;\">\n",
       "      <th></th>\n",
       "      <th>PassengerId</th>\n",
       "      <th>Survived</th>\n",
       "    </tr>\n",
       "  </thead>\n",
       "  <tbody>\n",
       "    <tr>\n",
       "      <th>0</th>\n",
       "      <td>892</td>\n",
       "      <td>0</td>\n",
       "    </tr>\n",
       "    <tr>\n",
       "      <th>1</th>\n",
       "      <td>893</td>\n",
       "      <td>1</td>\n",
       "    </tr>\n",
       "    <tr>\n",
       "      <th>2</th>\n",
       "      <td>894</td>\n",
       "      <td>0</td>\n",
       "    </tr>\n",
       "    <tr>\n",
       "      <th>3</th>\n",
       "      <td>895</td>\n",
       "      <td>0</td>\n",
       "    </tr>\n",
       "    <tr>\n",
       "      <th>4</th>\n",
       "      <td>896</td>\n",
       "      <td>1</td>\n",
       "    </tr>\n",
       "  </tbody>\n",
       "</table>\n",
       "</div>"
      ],
      "text/plain": [
       "   PassengerId  Survived\n",
       "0          892         0\n",
       "1          893         1\n",
       "2          894         0\n",
       "3          895         0\n",
       "4          896         1"
      ]
     },
     "execution_count": 38,
     "metadata": {},
     "output_type": "execute_result"
    }
   ],
   "source": [
    "submit = pd.read_csv('submission.csv')\n",
    "submit.head()"
   ]
  }
 ],
 "metadata": {
  "kernelspec": {
   "display_name": "Python 3",
   "language": "python",
   "name": "python3"
  },
  "language_info": {
   "codemirror_mode": {
    "name": "ipython",
    "version": 3
   },
   "file_extension": ".py",
   "mimetype": "text/x-python",
   "name": "python",
   "nbconvert_exporter": "python",
   "pygments_lexer": "ipython3",
   "version": "3.7.6"
  },
  "papermill": {
   "duration": 17.813263,
   "end_time": "2020-10-25T14:46:21.666044",
   "environment_variables": {},
   "exception": null,
   "input_path": "__notebook__.ipynb",
   "output_path": "__notebook__.ipynb",
   "parameters": {},
   "start_time": "2020-10-25T14:46:03.852781",
   "version": "2.1.0"
  }
 },
 "nbformat": 4,
 "nbformat_minor": 4
}
