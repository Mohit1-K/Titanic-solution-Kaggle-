{
  "nbformat": 4,
  "nbformat_minor": 0,
  "metadata": {
    "kernelspec": {
      "name": "python3",
      "display_name": "Python 3",
      "language": "python"
    },
    "language_info": {
      "name": "python",
      "version": "3.7.6",
      "mimetype": "text/x-python",
      "codemirror_mode": {
        "name": "ipython",
        "version": 3
      },
      "pygments_lexer": "ipython3",
      "nbconvert_exporter": "python",
      "file_extension": ".py"
    },
    "colab": {
      "name": "Stock_price_prediction.ipynb",
      "provenance": []
    }
  },
  "cells": [
    {
      "cell_type": "code",
      "metadata": {
        "_uuid": "8f2839f25d086af736a60e9eeb907d3b93b6e0e5",
        "_cell_guid": "b1076dfc-b9ad-4769-8c92-a6c4dae69d19",
        "trusted": true,
        "id": "DzE40dy8SkHN",
        "outputId": "ce8e91d6-54b2-48a0-9175-2c2f6ae83ab9"
      },
      "source": [
        "# This Python 3 environment comes with many helpful analytics libraries installed\n",
        "# It is defined by the kaggle/python Docker image: https://github.com/kaggle/docker-python\n",
        "# For example, here's several helpful packages to load\n",
        " \n",
        "import numpy as np # linear algebra\n",
        "import pandas as pd # data processing, CSV file I/O (e.g. pd.read_csv)\n",
        " \n",
        "# Input data files are available in the read-only \"../input/\" directory\n",
        "# For example, running this (by clicking run or pressing Shift+Enter) will list all files under the input directory\n",
        " \n",
        "import os\n",
        "for dirname, _, filenames in os.walk('/kaggle/input'):\n",
        "    for filename in filenames:\n",
        "        print(os.path.join(dirname, filename))\n",
        " \n",
        "# You can write up to 20GB to the current directory (/kaggle/working/) that gets preserved as output when you create a version using \"Save & Run All\" \n",
        "# You can also write temporary files to /kaggle/temp/, but they won't be saved outside of the current session"
      ],
      "execution_count": null,
      "outputs": [
        {
          "output_type": "stream",
          "text": [
            "/kaggle/input/stock-price-data-for-forecasting-problems/stock_price_dada.csv\n"
          ],
          "name": "stdout"
        }
      ]
    },
    {
      "cell_type": "code",
      "metadata": {
        "_uuid": "d629ff2d2480ee46fbb7e2d37f6b5fab8052498a",
        "_cell_guid": "79c7e3d0-c299-4dcb-8224-4455121ee9b0",
        "trusted": true,
        "id": "9eJycrt3SkHb"
      },
      "source": [
        "data= pd.read_csv(\"../input/stock-price-data-for-forecasting-problems/stock_price_dada.csv\")"
      ],
      "execution_count": null,
      "outputs": []
    },
    {
      "cell_type": "code",
      "metadata": {
        "trusted": true,
        "id": "0lfYJFi3SkHk",
        "outputId": "210f8dc6-e48a-472f-c5b2-964e447c6a8c"
      },
      "source": [
        "data.head()"
      ],
      "execution_count": null,
      "outputs": [
        {
          "output_type": "execute_result",
          "data": {
            "text/plain": [
              "         Date    Open    High     Low    Last   Close  Total Trade Quantity  \\\n",
              "0  2018-10-08  208.00  222.25  206.85  216.00  215.15             4642146.0   \n",
              "1  2018-10-05  217.00  218.60  205.90  210.25  209.20             3519515.0   \n",
              "2  2018-10-04  223.50  227.80  216.15  217.25  218.20             1728786.0   \n",
              "3  2018-10-03  230.00  237.50  225.75  226.45  227.60             1708590.0   \n",
              "4  2018-10-01  234.55  234.60  221.05  230.30  230.90             1534749.0   \n",
              "\n",
              "   Turnover (Lacs)  \n",
              "0         10062.83  \n",
              "1          7407.06  \n",
              "2          3815.79  \n",
              "3          3960.27  \n",
              "4          3486.05  "
            ],
            "text/html": [
              "<div>\n",
              "<style scoped>\n",
              "    .dataframe tbody tr th:only-of-type {\n",
              "        vertical-align: middle;\n",
              "    }\n",
              "\n",
              "    .dataframe tbody tr th {\n",
              "        vertical-align: top;\n",
              "    }\n",
              "\n",
              "    .dataframe thead th {\n",
              "        text-align: right;\n",
              "    }\n",
              "</style>\n",
              "<table border=\"1\" class=\"dataframe\">\n",
              "  <thead>\n",
              "    <tr style=\"text-align: right;\">\n",
              "      <th></th>\n",
              "      <th>Date</th>\n",
              "      <th>Open</th>\n",
              "      <th>High</th>\n",
              "      <th>Low</th>\n",
              "      <th>Last</th>\n",
              "      <th>Close</th>\n",
              "      <th>Total Trade Quantity</th>\n",
              "      <th>Turnover (Lacs)</th>\n",
              "    </tr>\n",
              "  </thead>\n",
              "  <tbody>\n",
              "    <tr>\n",
              "      <th>0</th>\n",
              "      <td>2018-10-08</td>\n",
              "      <td>208.00</td>\n",
              "      <td>222.25</td>\n",
              "      <td>206.85</td>\n",
              "      <td>216.00</td>\n",
              "      <td>215.15</td>\n",
              "      <td>4642146.0</td>\n",
              "      <td>10062.83</td>\n",
              "    </tr>\n",
              "    <tr>\n",
              "      <th>1</th>\n",
              "      <td>2018-10-05</td>\n",
              "      <td>217.00</td>\n",
              "      <td>218.60</td>\n",
              "      <td>205.90</td>\n",
              "      <td>210.25</td>\n",
              "      <td>209.20</td>\n",
              "      <td>3519515.0</td>\n",
              "      <td>7407.06</td>\n",
              "    </tr>\n",
              "    <tr>\n",
              "      <th>2</th>\n",
              "      <td>2018-10-04</td>\n",
              "      <td>223.50</td>\n",
              "      <td>227.80</td>\n",
              "      <td>216.15</td>\n",
              "      <td>217.25</td>\n",
              "      <td>218.20</td>\n",
              "      <td>1728786.0</td>\n",
              "      <td>3815.79</td>\n",
              "    </tr>\n",
              "    <tr>\n",
              "      <th>3</th>\n",
              "      <td>2018-10-03</td>\n",
              "      <td>230.00</td>\n",
              "      <td>237.50</td>\n",
              "      <td>225.75</td>\n",
              "      <td>226.45</td>\n",
              "      <td>227.60</td>\n",
              "      <td>1708590.0</td>\n",
              "      <td>3960.27</td>\n",
              "    </tr>\n",
              "    <tr>\n",
              "      <th>4</th>\n",
              "      <td>2018-10-01</td>\n",
              "      <td>234.55</td>\n",
              "      <td>234.60</td>\n",
              "      <td>221.05</td>\n",
              "      <td>230.30</td>\n",
              "      <td>230.90</td>\n",
              "      <td>1534749.0</td>\n",
              "      <td>3486.05</td>\n",
              "    </tr>\n",
              "  </tbody>\n",
              "</table>\n",
              "</div>"
            ]
          },
          "metadata": {
            "tags": []
          },
          "execution_count": 339
        }
      ]
    },
    {
      "cell_type": "code",
      "metadata": {
        "trusted": true,
        "id": "Ar37hr1mSkHs"
      },
      "source": [
        "#data['Date']= pd.to_datetime(data[\"Date\"])"
      ],
      "execution_count": null,
      "outputs": []
    },
    {
      "cell_type": "code",
      "metadata": {
        "trusted": true,
        "id": "WX00VZbFSkHz"
      },
      "source": [
        "data_df = data[(data['Date'] > \"2014-1-1\") & (data['Date']< \"2016-12-31\")] \n",
        "\n",
        "  "
      ],
      "execution_count": null,
      "outputs": []
    },
    {
      "cell_type": "code",
      "metadata": {
        "trusted": true,
        "id": "w-VQw3DFSkH6",
        "outputId": "8d3234ec-e0f3-4787-8187-7e342f7bc560"
      },
      "source": [
        "data_df"
      ],
      "execution_count": null,
      "outputs": [
        {
          "output_type": "execute_result",
          "data": {
            "text/plain": [
              "           Date    Open    High     Low    Last   Close  Total Trade Quantity  \\\n",
              "438  2016-12-30  121.10  123.30  121.10  122.00  122.00             1017447.0   \n",
              "439  2016-12-29  119.60  122.15  119.60  121.30  121.10             1025503.0   \n",
              "440  2016-12-28  119.20  122.00  119.20  119.80  119.60              866902.0   \n",
              "441  2016-12-27  117.00  121.05  116.45  120.05  120.55              728501.0   \n",
              "442  2016-12-26  118.80  118.85  116.30  117.40  117.00              425216.0   \n",
              "..          ...     ...     ...     ...     ...     ...                   ...   \n",
              "986  2014-10-10  160.65  163.90  158.70  159.85  160.25             3624666.0   \n",
              "987  2014-10-09  160.45  163.35  160.45  161.15  161.25             3216539.0   \n",
              "988  2014-10-08  158.00  161.00  157.75  160.10  160.25             1524087.0   \n",
              "989  2014-10-07  158.25  161.65  158.00  159.30  158.80             2284463.0   \n",
              "990  2014-10-01  160.00  162.00  158.40  158.70  158.85             1198264.0   \n",
              "\n",
              "     Turnover (Lacs)  \n",
              "438          1244.54  \n",
              "439          1241.44  \n",
              "440          1047.42  \n",
              "441           870.77  \n",
              "442           498.73  \n",
              "..               ...  \n",
              "986          5845.16  \n",
              "987          5202.87  \n",
              "988          2437.49  \n",
              "989          3656.40  \n",
              "990          1915.37  \n",
              "\n",
              "[553 rows x 8 columns]"
            ],
            "text/html": [
              "<div>\n",
              "<style scoped>\n",
              "    .dataframe tbody tr th:only-of-type {\n",
              "        vertical-align: middle;\n",
              "    }\n",
              "\n",
              "    .dataframe tbody tr th {\n",
              "        vertical-align: top;\n",
              "    }\n",
              "\n",
              "    .dataframe thead th {\n",
              "        text-align: right;\n",
              "    }\n",
              "</style>\n",
              "<table border=\"1\" class=\"dataframe\">\n",
              "  <thead>\n",
              "    <tr style=\"text-align: right;\">\n",
              "      <th></th>\n",
              "      <th>Date</th>\n",
              "      <th>Open</th>\n",
              "      <th>High</th>\n",
              "      <th>Low</th>\n",
              "      <th>Last</th>\n",
              "      <th>Close</th>\n",
              "      <th>Total Trade Quantity</th>\n",
              "      <th>Turnover (Lacs)</th>\n",
              "    </tr>\n",
              "  </thead>\n",
              "  <tbody>\n",
              "    <tr>\n",
              "      <th>438</th>\n",
              "      <td>2016-12-30</td>\n",
              "      <td>121.10</td>\n",
              "      <td>123.30</td>\n",
              "      <td>121.10</td>\n",
              "      <td>122.00</td>\n",
              "      <td>122.00</td>\n",
              "      <td>1017447.0</td>\n",
              "      <td>1244.54</td>\n",
              "    </tr>\n",
              "    <tr>\n",
              "      <th>439</th>\n",
              "      <td>2016-12-29</td>\n",
              "      <td>119.60</td>\n",
              "      <td>122.15</td>\n",
              "      <td>119.60</td>\n",
              "      <td>121.30</td>\n",
              "      <td>121.10</td>\n",
              "      <td>1025503.0</td>\n",
              "      <td>1241.44</td>\n",
              "    </tr>\n",
              "    <tr>\n",
              "      <th>440</th>\n",
              "      <td>2016-12-28</td>\n",
              "      <td>119.20</td>\n",
              "      <td>122.00</td>\n",
              "      <td>119.20</td>\n",
              "      <td>119.80</td>\n",
              "      <td>119.60</td>\n",
              "      <td>866902.0</td>\n",
              "      <td>1047.42</td>\n",
              "    </tr>\n",
              "    <tr>\n",
              "      <th>441</th>\n",
              "      <td>2016-12-27</td>\n",
              "      <td>117.00</td>\n",
              "      <td>121.05</td>\n",
              "      <td>116.45</td>\n",
              "      <td>120.05</td>\n",
              "      <td>120.55</td>\n",
              "      <td>728501.0</td>\n",
              "      <td>870.77</td>\n",
              "    </tr>\n",
              "    <tr>\n",
              "      <th>442</th>\n",
              "      <td>2016-12-26</td>\n",
              "      <td>118.80</td>\n",
              "      <td>118.85</td>\n",
              "      <td>116.30</td>\n",
              "      <td>117.40</td>\n",
              "      <td>117.00</td>\n",
              "      <td>425216.0</td>\n",
              "      <td>498.73</td>\n",
              "    </tr>\n",
              "    <tr>\n",
              "      <th>...</th>\n",
              "      <td>...</td>\n",
              "      <td>...</td>\n",
              "      <td>...</td>\n",
              "      <td>...</td>\n",
              "      <td>...</td>\n",
              "      <td>...</td>\n",
              "      <td>...</td>\n",
              "      <td>...</td>\n",
              "    </tr>\n",
              "    <tr>\n",
              "      <th>986</th>\n",
              "      <td>2014-10-10</td>\n",
              "      <td>160.65</td>\n",
              "      <td>163.90</td>\n",
              "      <td>158.70</td>\n",
              "      <td>159.85</td>\n",
              "      <td>160.25</td>\n",
              "      <td>3624666.0</td>\n",
              "      <td>5845.16</td>\n",
              "    </tr>\n",
              "    <tr>\n",
              "      <th>987</th>\n",
              "      <td>2014-10-09</td>\n",
              "      <td>160.45</td>\n",
              "      <td>163.35</td>\n",
              "      <td>160.45</td>\n",
              "      <td>161.15</td>\n",
              "      <td>161.25</td>\n",
              "      <td>3216539.0</td>\n",
              "      <td>5202.87</td>\n",
              "    </tr>\n",
              "    <tr>\n",
              "      <th>988</th>\n",
              "      <td>2014-10-08</td>\n",
              "      <td>158.00</td>\n",
              "      <td>161.00</td>\n",
              "      <td>157.75</td>\n",
              "      <td>160.10</td>\n",
              "      <td>160.25</td>\n",
              "      <td>1524087.0</td>\n",
              "      <td>2437.49</td>\n",
              "    </tr>\n",
              "    <tr>\n",
              "      <th>989</th>\n",
              "      <td>2014-10-07</td>\n",
              "      <td>158.25</td>\n",
              "      <td>161.65</td>\n",
              "      <td>158.00</td>\n",
              "      <td>159.30</td>\n",
              "      <td>158.80</td>\n",
              "      <td>2284463.0</td>\n",
              "      <td>3656.40</td>\n",
              "    </tr>\n",
              "    <tr>\n",
              "      <th>990</th>\n",
              "      <td>2014-10-01</td>\n",
              "      <td>160.00</td>\n",
              "      <td>162.00</td>\n",
              "      <td>158.40</td>\n",
              "      <td>158.70</td>\n",
              "      <td>158.85</td>\n",
              "      <td>1198264.0</td>\n",
              "      <td>1915.37</td>\n",
              "    </tr>\n",
              "  </tbody>\n",
              "</table>\n",
              "<p>553 rows × 8 columns</p>\n",
              "</div>"
            ]
          },
          "metadata": {
            "tags": []
          },
          "execution_count": 342
        }
      ]
    },
    {
      "cell_type": "code",
      "metadata": {
        "trusted": true,
        "id": "mfKQmsPSSkIC",
        "outputId": "fc46d427-0b96-4816-b5ae-1b7610e587a9"
      },
      "source": [
        "data_df.info()"
      ],
      "execution_count": null,
      "outputs": [
        {
          "output_type": "stream",
          "text": [
            "<class 'pandas.core.frame.DataFrame'>\n",
            "Int64Index: 553 entries, 438 to 990\n",
            "Data columns (total 8 columns):\n",
            " #   Column                Non-Null Count  Dtype  \n",
            "---  ------                --------------  -----  \n",
            " 0   Date                  553 non-null    object \n",
            " 1   Open                  553 non-null    float64\n",
            " 2   High                  553 non-null    float64\n",
            " 3   Low                   553 non-null    float64\n",
            " 4   Last                  553 non-null    float64\n",
            " 5   Close                 553 non-null    float64\n",
            " 6   Total Trade Quantity  553 non-null    float64\n",
            " 7   Turnover (Lacs)       553 non-null    float64\n",
            "dtypes: float64(7), object(1)\n",
            "memory usage: 38.9+ KB\n"
          ],
          "name": "stdout"
        }
      ]
    },
    {
      "cell_type": "code",
      "metadata": {
        "trusted": true,
        "id": "TO3wKvBJSkIL"
      },
      "source": [
        "X_columns = list(data.drop(['Close'], axis=1).columns)\n",
        "y_column = 'Close'\n",
        "X_train = data_df[X_columns]\n",
        "y_train = data_df[y_column]"
      ],
      "execution_count": null,
      "outputs": []
    },
    {
      "cell_type": "code",
      "metadata": {
        "trusted": true,
        "id": "-aK0q2CDSkIS",
        "outputId": "4057df68-ec77-4db2-b733-81b977b09dee"
      },
      "source": [
        "X_train.shape"
      ],
      "execution_count": null,
      "outputs": [
        {
          "output_type": "execute_result",
          "data": {
            "text/plain": [
              "(553, 7)"
            ]
          },
          "metadata": {
            "tags": []
          },
          "execution_count": 345
        }
      ]
    },
    {
      "cell_type": "code",
      "metadata": {
        "trusted": true,
        "id": "55Je7exqSkIZ",
        "outputId": "77a99460-9f16-470b-ee90-0410c8d4cb13"
      },
      "source": [
        "y_train.shape"
      ],
      "execution_count": null,
      "outputs": [
        {
          "output_type": "execute_result",
          "data": {
            "text/plain": [
              "(553,)"
            ]
          },
          "metadata": {
            "tags": []
          },
          "execution_count": 346
        }
      ]
    },
    {
      "cell_type": "code",
      "metadata": {
        "trusted": true,
        "id": "s-t8ZS1RSkIg"
      },
      "source": [
        "data_test = data[(data['Date'] > \"2016-12-31\") & (data['Date']< \"2019-1-1\")] \n",
        "\n",
        "  "
      ],
      "execution_count": null,
      "outputs": []
    },
    {
      "cell_type": "code",
      "metadata": {
        "trusted": true,
        "id": "YN41XmH8SkIn",
        "outputId": "508ff123-a310-4d5b-c77a-a1095d30705a"
      },
      "source": [
        "data_test"
      ],
      "execution_count": null,
      "outputs": [
        {
          "output_type": "execute_result",
          "data": {
            "text/plain": [
              "           Date    Open    High     Low    Last   Close  Total Trade Quantity  \\\n",
              "0    2018-10-08  208.00  222.25  206.85  216.00  215.15             4642146.0   \n",
              "1    2018-10-05  217.00  218.60  205.90  210.25  209.20             3519515.0   \n",
              "2    2018-10-04  223.50  227.80  216.15  217.25  218.20             1728786.0   \n",
              "3    2018-10-03  230.00  237.50  225.75  226.45  227.60             1708590.0   \n",
              "4    2018-10-01  234.55  234.60  221.05  230.30  230.90             1534749.0   \n",
              "..          ...     ...     ...     ...     ...     ...                   ...   \n",
              "433  2017-01-06  125.40  126.95  124.05  124.50  124.65             1255021.0   \n",
              "434  2017-01-05  124.75  125.65  124.55  125.30  125.20              503565.0   \n",
              "435  2017-01-04  125.00  126.05  123.80  124.10  124.45              656213.0   \n",
              "436  2017-01-03  122.80  125.40  122.80  124.75  124.45              580430.0   \n",
              "437  2017-01-02  122.80  124.20  121.35  123.55  123.55             1102178.0   \n",
              "\n",
              "     Turnover (Lacs)  \n",
              "0           10062.83  \n",
              "1            7407.06  \n",
              "2            3815.79  \n",
              "3            3960.27  \n",
              "4            3486.05  \n",
              "..               ...  \n",
              "433          1573.67  \n",
              "434           630.23  \n",
              "435           818.98  \n",
              "436           721.93  \n",
              "437          1354.06  \n",
              "\n",
              "[438 rows x 8 columns]"
            ],
            "text/html": [
              "<div>\n",
              "<style scoped>\n",
              "    .dataframe tbody tr th:only-of-type {\n",
              "        vertical-align: middle;\n",
              "    }\n",
              "\n",
              "    .dataframe tbody tr th {\n",
              "        vertical-align: top;\n",
              "    }\n",
              "\n",
              "    .dataframe thead th {\n",
              "        text-align: right;\n",
              "    }\n",
              "</style>\n",
              "<table border=\"1\" class=\"dataframe\">\n",
              "  <thead>\n",
              "    <tr style=\"text-align: right;\">\n",
              "      <th></th>\n",
              "      <th>Date</th>\n",
              "      <th>Open</th>\n",
              "      <th>High</th>\n",
              "      <th>Low</th>\n",
              "      <th>Last</th>\n",
              "      <th>Close</th>\n",
              "      <th>Total Trade Quantity</th>\n",
              "      <th>Turnover (Lacs)</th>\n",
              "    </tr>\n",
              "  </thead>\n",
              "  <tbody>\n",
              "    <tr>\n",
              "      <th>0</th>\n",
              "      <td>2018-10-08</td>\n",
              "      <td>208.00</td>\n",
              "      <td>222.25</td>\n",
              "      <td>206.85</td>\n",
              "      <td>216.00</td>\n",
              "      <td>215.15</td>\n",
              "      <td>4642146.0</td>\n",
              "      <td>10062.83</td>\n",
              "    </tr>\n",
              "    <tr>\n",
              "      <th>1</th>\n",
              "      <td>2018-10-05</td>\n",
              "      <td>217.00</td>\n",
              "      <td>218.60</td>\n",
              "      <td>205.90</td>\n",
              "      <td>210.25</td>\n",
              "      <td>209.20</td>\n",
              "      <td>3519515.0</td>\n",
              "      <td>7407.06</td>\n",
              "    </tr>\n",
              "    <tr>\n",
              "      <th>2</th>\n",
              "      <td>2018-10-04</td>\n",
              "      <td>223.50</td>\n",
              "      <td>227.80</td>\n",
              "      <td>216.15</td>\n",
              "      <td>217.25</td>\n",
              "      <td>218.20</td>\n",
              "      <td>1728786.0</td>\n",
              "      <td>3815.79</td>\n",
              "    </tr>\n",
              "    <tr>\n",
              "      <th>3</th>\n",
              "      <td>2018-10-03</td>\n",
              "      <td>230.00</td>\n",
              "      <td>237.50</td>\n",
              "      <td>225.75</td>\n",
              "      <td>226.45</td>\n",
              "      <td>227.60</td>\n",
              "      <td>1708590.0</td>\n",
              "      <td>3960.27</td>\n",
              "    </tr>\n",
              "    <tr>\n",
              "      <th>4</th>\n",
              "      <td>2018-10-01</td>\n",
              "      <td>234.55</td>\n",
              "      <td>234.60</td>\n",
              "      <td>221.05</td>\n",
              "      <td>230.30</td>\n",
              "      <td>230.90</td>\n",
              "      <td>1534749.0</td>\n",
              "      <td>3486.05</td>\n",
              "    </tr>\n",
              "    <tr>\n",
              "      <th>...</th>\n",
              "      <td>...</td>\n",
              "      <td>...</td>\n",
              "      <td>...</td>\n",
              "      <td>...</td>\n",
              "      <td>...</td>\n",
              "      <td>...</td>\n",
              "      <td>...</td>\n",
              "      <td>...</td>\n",
              "    </tr>\n",
              "    <tr>\n",
              "      <th>433</th>\n",
              "      <td>2017-01-06</td>\n",
              "      <td>125.40</td>\n",
              "      <td>126.95</td>\n",
              "      <td>124.05</td>\n",
              "      <td>124.50</td>\n",
              "      <td>124.65</td>\n",
              "      <td>1255021.0</td>\n",
              "      <td>1573.67</td>\n",
              "    </tr>\n",
              "    <tr>\n",
              "      <th>434</th>\n",
              "      <td>2017-01-05</td>\n",
              "      <td>124.75</td>\n",
              "      <td>125.65</td>\n",
              "      <td>124.55</td>\n",
              "      <td>125.30</td>\n",
              "      <td>125.20</td>\n",
              "      <td>503565.0</td>\n",
              "      <td>630.23</td>\n",
              "    </tr>\n",
              "    <tr>\n",
              "      <th>435</th>\n",
              "      <td>2017-01-04</td>\n",
              "      <td>125.00</td>\n",
              "      <td>126.05</td>\n",
              "      <td>123.80</td>\n",
              "      <td>124.10</td>\n",
              "      <td>124.45</td>\n",
              "      <td>656213.0</td>\n",
              "      <td>818.98</td>\n",
              "    </tr>\n",
              "    <tr>\n",
              "      <th>436</th>\n",
              "      <td>2017-01-03</td>\n",
              "      <td>122.80</td>\n",
              "      <td>125.40</td>\n",
              "      <td>122.80</td>\n",
              "      <td>124.75</td>\n",
              "      <td>124.45</td>\n",
              "      <td>580430.0</td>\n",
              "      <td>721.93</td>\n",
              "    </tr>\n",
              "    <tr>\n",
              "      <th>437</th>\n",
              "      <td>2017-01-02</td>\n",
              "      <td>122.80</td>\n",
              "      <td>124.20</td>\n",
              "      <td>121.35</td>\n",
              "      <td>123.55</td>\n",
              "      <td>123.55</td>\n",
              "      <td>1102178.0</td>\n",
              "      <td>1354.06</td>\n",
              "    </tr>\n",
              "  </tbody>\n",
              "</table>\n",
              "<p>438 rows × 8 columns</p>\n",
              "</div>"
            ]
          },
          "metadata": {
            "tags": []
          },
          "execution_count": 348
        }
      ]
    },
    {
      "cell_type": "code",
      "metadata": {
        "trusted": true,
        "id": "ckUd9jeWSkIu"
      },
      "source": [
        "X_test = data_test[X_columns]\n",
        "y_test = data_test[y_column]"
      ],
      "execution_count": null,
      "outputs": []
    },
    {
      "cell_type": "code",
      "metadata": {
        "trusted": true,
        "id": "3Pp236pqSkI2",
        "outputId": "af6892e0-ef4a-4470-828e-288a55a88116"
      },
      "source": [
        "data_test.info()"
      ],
      "execution_count": null,
      "outputs": [
        {
          "output_type": "stream",
          "text": [
            "<class 'pandas.core.frame.DataFrame'>\n",
            "Int64Index: 438 entries, 0 to 437\n",
            "Data columns (total 8 columns):\n",
            " #   Column                Non-Null Count  Dtype  \n",
            "---  ------                --------------  -----  \n",
            " 0   Date                  438 non-null    object \n",
            " 1   Open                  438 non-null    float64\n",
            " 2   High                  438 non-null    float64\n",
            " 3   Low                   438 non-null    float64\n",
            " 4   Last                  438 non-null    float64\n",
            " 5   Close                 438 non-null    float64\n",
            " 6   Total Trade Quantity  438 non-null    float64\n",
            " 7   Turnover (Lacs)       438 non-null    float64\n",
            "dtypes: float64(7), object(1)\n",
            "memory usage: 30.8+ KB\n"
          ],
          "name": "stdout"
        }
      ]
    },
    {
      "cell_type": "code",
      "metadata": {
        "trusted": true,
        "id": "1WiCoYecSkI_",
        "outputId": "fe106120-1336-4955-b7ba-dacfa7c61a8c"
      },
      "source": [
        "X_test.shape"
      ],
      "execution_count": null,
      "outputs": [
        {
          "output_type": "execute_result",
          "data": {
            "text/plain": [
              "(438, 7)"
            ]
          },
          "metadata": {
            "tags": []
          },
          "execution_count": 351
        }
      ]
    },
    {
      "cell_type": "code",
      "metadata": {
        "trusted": true,
        "id": "PpYBYVdSSkJH",
        "outputId": "4e7b2353-6628-4727-d61a-bdbd7a23fdff"
      },
      "source": [
        "y_test.shape"
      ],
      "execution_count": null,
      "outputs": [
        {
          "output_type": "execute_result",
          "data": {
            "text/plain": [
              "(438,)"
            ]
          },
          "metadata": {
            "tags": []
          },
          "execution_count": 352
        }
      ]
    },
    {
      "cell_type": "code",
      "metadata": {
        "trusted": true,
        "id": "IgoJlWWTSkJN",
        "outputId": "d1c43ad8-19e0-44a8-9604-c1e7bd09ba61"
      },
      "source": [
        "import datetime as dt\n",
        "X_train['Date'] = pd.to_datetime(X_train['Date'])\n",
        "X_train['Date']=X_train['Date'].map(dt.datetime.toordinal)"
      ],
      "execution_count": null,
      "outputs": [
        {
          "output_type": "stream",
          "text": [
            "/opt/conda/lib/python3.7/site-packages/ipykernel_launcher.py:2: SettingWithCopyWarning: \n",
            "A value is trying to be set on a copy of a slice from a DataFrame.\n",
            "Try using .loc[row_indexer,col_indexer] = value instead\n",
            "\n",
            "See the caveats in the documentation: https://pandas.pydata.org/pandas-docs/stable/user_guide/indexing.html#returning-a-view-versus-a-copy\n",
            "  \n",
            "/opt/conda/lib/python3.7/site-packages/ipykernel_launcher.py:3: SettingWithCopyWarning: \n",
            "A value is trying to be set on a copy of a slice from a DataFrame.\n",
            "Try using .loc[row_indexer,col_indexer] = value instead\n",
            "\n",
            "See the caveats in the documentation: https://pandas.pydata.org/pandas-docs/stable/user_guide/indexing.html#returning-a-view-versus-a-copy\n",
            "  This is separate from the ipykernel package so we can avoid doing imports until\n"
          ],
          "name": "stderr"
        }
      ]
    },
    {
      "cell_type": "code",
      "metadata": {
        "trusted": true,
        "id": "0y5FM2UzSkJU",
        "outputId": "39f9eb29-1c4f-4af0-f52b-93d71477d54c"
      },
      "source": [
        "\n",
        "X_test['Date'] = pd.to_datetime(X_test['Date'])\n",
        "X_test['Date']=X_test['Date'].map(dt.datetime.toordinal)"
      ],
      "execution_count": null,
      "outputs": [
        {
          "output_type": "stream",
          "text": [
            "/opt/conda/lib/python3.7/site-packages/ipykernel_launcher.py:1: SettingWithCopyWarning: \n",
            "A value is trying to be set on a copy of a slice from a DataFrame.\n",
            "Try using .loc[row_indexer,col_indexer] = value instead\n",
            "\n",
            "See the caveats in the documentation: https://pandas.pydata.org/pandas-docs/stable/user_guide/indexing.html#returning-a-view-versus-a-copy\n",
            "  \"\"\"Entry point for launching an IPython kernel.\n",
            "/opt/conda/lib/python3.7/site-packages/ipykernel_launcher.py:2: SettingWithCopyWarning: \n",
            "A value is trying to be set on a copy of a slice from a DataFrame.\n",
            "Try using .loc[row_indexer,col_indexer] = value instead\n",
            "\n",
            "See the caveats in the documentation: https://pandas.pydata.org/pandas-docs/stable/user_guide/indexing.html#returning-a-view-versus-a-copy\n",
            "  \n"
          ],
          "name": "stderr"
        }
      ]
    },
    {
      "cell_type": "code",
      "metadata": {
        "trusted": true,
        "id": "yN1Afwc5SkJc"
      },
      "source": [
        "from sklearn.preprocessing import StandardScaler\n",
        "scaler = StandardScaler()"
      ],
      "execution_count": null,
      "outputs": []
    },
    {
      "cell_type": "code",
      "metadata": {
        "trusted": true,
        "id": "RiCjiL6ASkJi"
      },
      "source": [
        "from sklearn.linear_model import SGDRegressor\n",
        "from sklearn.model_selection import GridSearchCV"
      ],
      "execution_count": null,
      "outputs": []
    },
    {
      "cell_type": "code",
      "metadata": {
        "trusted": true,
        "id": "eRdNpf4MSkJo"
      },
      "source": [
        "from sklearn.metrics import mean_squared_error\n",
        "from sklearn.metrics import mean_absolute_error\n",
        "from sklearn.metrics import r2_score"
      ],
      "execution_count": null,
      "outputs": []
    },
    {
      "cell_type": "code",
      "metadata": {
        "trusted": true,
        "id": "ReIVaLUqSkJu"
      },
      "source": [
        "scaler.fit(X_train)\n",
        "#Rescale both sets using the trained scaler\n",
        "X_scaled_train = scaler.transform(X_train)\n",
        "X_scaled_test = scaler.transform(X_test)"
      ],
      "execution_count": null,
      "outputs": []
    },
    {
      "cell_type": "code",
      "metadata": {
        "trusted": true,
        "id": "FrPRsIE1SkJ5",
        "outputId": "6c6be9c1-0eab-4220-f166-240a5b6e0d83"
      },
      "source": [
        "param_grid = {\n",
        "\"alpha\": [3e-06, 1e-5, 3e-5],\n",
        "\"eta0\": [0.01, 0.03, 0.1],\n",
        "}\n",
        "lr = SGDRegressor(penalty='l2', max_iter=1000)\n",
        "grid_search = GridSearchCV(lr, param_grid, cv=5,\n",
        "scoring='neg_mean_absolute_error')\n",
        "grid_search.fit(X_scaled_train, y_train)"
      ],
      "execution_count": null,
      "outputs": [
        {
          "output_type": "execute_result",
          "data": {
            "text/plain": [
              "GridSearchCV(cv=5, estimator=SGDRegressor(),\n",
              "             param_grid={'alpha': [3e-06, 1e-05, 3e-05],\n",
              "                         'eta0': [0.01, 0.03, 0.1]},\n",
              "             scoring='neg_mean_absolute_error')"
            ]
          },
          "metadata": {
            "tags": []
          },
          "execution_count": 359
        }
      ]
    },
    {
      "cell_type": "code",
      "metadata": {
        "trusted": true,
        "id": "wQaPEJVMSkJ_",
        "outputId": "8482e0c1-fbba-4db0-f8e6-f898dbcc4bbb"
      },
      "source": [
        "print(grid_search.best_params_)\n"
      ],
      "execution_count": null,
      "outputs": [
        {
          "output_type": "stream",
          "text": [
            "{'alpha': 3e-06, 'eta0': 0.1}\n"
          ],
          "name": "stdout"
        }
      ]
    },
    {
      "cell_type": "code",
      "metadata": {
        "trusted": true,
        "id": "H40fresISkKI"
      },
      "source": [
        "lr_best = grid_search.best_estimator_\n",
        "predictions = lr_best.predict(X_scaled_test)"
      ],
      "execution_count": null,
      "outputs": []
    },
    {
      "cell_type": "code",
      "metadata": {
        "trusted": true,
        "id": "ukpe_u4gSkKO",
        "outputId": "8feb5c79-51f2-471b-8310-5b2cb4607186"
      },
      "source": [
        "print('MSE: {0:.3f}'.format(\n",
        " mean_squared_error(y_test, predictions)))\n",
        "print('MAE: {0:.3f}'.format(\n",
        " mean_absolute_error(y_test, predictions)))\n",
        "print('R^2: {0:.3f}'.format(r2_score(y_test, predictions)))\n"
      ],
      "execution_count": null,
      "outputs": [
        {
          "output_type": "stream",
          "text": [
            "MSE: 0.907\n",
            "MAE: 0.646\n",
            "R^2: 1.000\n"
          ],
          "name": "stdout"
        }
      ]
    }
  ]
}